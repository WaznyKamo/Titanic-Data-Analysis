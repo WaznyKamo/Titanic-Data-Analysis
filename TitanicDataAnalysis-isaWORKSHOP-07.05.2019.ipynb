{
 "cells": [
  {
   "cell_type": "markdown",
   "metadata": {
    "id": "rm76P1c7OxZY"
   },
   "source": [
    "Investigate a Dataset\n",
    "==\n",
    "\n",
    "Python notebook with report and code used for exploring and investigating Titanic dataset.\n",
    "\n",
    "\n",
    "Author: *Marcin Zadroga*\n",
    "\n",
    "Was analyzed and developed during infoShare Academy workshop\n",
    "\n",
    "`Example of data analysis in Python`"
   ]
  },
  {
   "cell_type": "markdown",
   "metadata": {
    "id": "I0vYpXeAOxZa"
   },
   "source": [
    "# 1. Description of dataset and data cleaning\n"
   ]
  },
  {
   "cell_type": "markdown",
   "metadata": {
    "id": "O9pwFWLvOxZc"
   },
   "source": [
    "In this project the Titanic dataset was investigated. The analysis was conducted on dataset from Kaggle website. The data contains information about 891 of the total number 2224 passengers and crew on board the Titanic. Each row describes one passenger, and contains variables:\n",
    "- PassengerId - numeric value; id\n",
    "- Survived - numeric value; 0 (died) or 1 (survived)\n",
    "- Pclass - numeric value; 1, 2 or 3 - denotes 1st, 2nd or 3rd class\n",
    "- Name - text\n",
    "- Sex  - text; ‘male’ or ‘female’\n",
    "- Age - numeric value\n",
    "- SibSp - numeric value; number of siblings/spouses aboard\n",
    "- Parch - numeric value; number of parents/children aboard\n",
    "- Ticket - text; ticket number - contains both letters and numbers\n",
    "- Fare - numeric value\n",
    "- Cabin  - text\n",
    "- Embarked - text, port of embarkation (C, Q or S)\n"
   ]
  },
  {
   "cell_type": "markdown",
   "metadata": {
    "id": "Y0kTvNFQOxZf"
   },
   "source": [
    "#### Loading needed libraries"
   ]
  },
  {
   "cell_type": "code",
   "execution_count": 1,
   "metadata": {
    "executionInfo": {
     "elapsed": 814,
     "status": "ok",
     "timestamp": 1609192071391,
     "user": {
      "displayName": "Kamil Ważny",
      "photoUrl": "",
      "userId": "08396634043841645674"
     },
     "user_tz": -60
    },
    "id": "IwPc58JdOxZh"
   },
   "outputs": [],
   "source": [
    "import pandas as pd\n",
    "import numpy as np\n",
    "import matplotlib.pyplot as plt\n",
    "import matplotlib.cm as cm\n",
    "from scipy.stats import chi2_contingency\n",
    "import warnings\n",
    "\n",
    "warnings.filterwarnings('ignore')\n",
    "\n",
    "%matplotlib inline"
   ]
  },
  {
   "cell_type": "code",
   "execution_count": 2,
   "metadata": {
    "executionInfo": {
     "elapsed": 3006,
     "status": "ok",
     "timestamp": 1609192073586,
     "user": {
      "displayName": "Kamil Ważny",
      "photoUrl": "",
      "userId": "08396634043841645674"
     },
     "user_tz": -60
    },
    "id": "0WJWgSjyOxZn"
   },
   "outputs": [],
   "source": [
    "#reading CSV into DataFrame\n",
    "url = \"https://www.mlgdansk.pl/wp-content/uploads/2019/05/titanic_data.csv\"\n",
    "\n",
    "titanic_df = pd.read_csv(url)\n",
    "\n",
    "#changing column names to be written in uppercase (just for convenience)\n",
    "titanic_df.columns = map(str.upper, titanic_df.columns)"
   ]
  },
  {
   "cell_type": "markdown",
   "metadata": {
    "id": "eYmTTGrmOxZt"
   },
   "source": [
    "#### Checking types of variables in DataFrame"
   ]
  },
  {
   "cell_type": "code",
   "execution_count": 3,
   "metadata": {
    "colab": {
     "base_uri": "https://localhost:8080/"
    },
    "executionInfo": {
     "elapsed": 2992,
     "status": "ok",
     "timestamp": 1609192073587,
     "user": {
      "displayName": "Kamil Ważny",
      "photoUrl": "",
      "userId": "08396634043841645674"
     },
     "user_tz": -60
    },
    "id": "SCSIjY8TOxZv",
    "outputId": "b12e0e14-5969-4122-c328-a0c3e3729e23"
   },
   "outputs": [
    {
     "data": {
      "text/plain": [
       "PASSENGERID      int64\n",
       "SURVIVED         int64\n",
       "PCLASS           int64\n",
       "NAME            object\n",
       "SEX             object\n",
       "AGE            float64\n",
       "SIBSP            int64\n",
       "PARCH            int64\n",
       "TICKET          object\n",
       "FARE           float64\n",
       "CABIN           object\n",
       "EMBARKED        object\n",
       "dtype: object"
      ]
     },
     "execution_count": 3,
     "metadata": {},
     "output_type": "execute_result"
    }
   ],
   "source": [
    "titanic_df.dtypes"
   ]
  },
  {
   "cell_type": "markdown",
   "metadata": {
    "id": "ZHumIAJHOxZ3"
   },
   "source": [
    "It was noticed that some values are missing (NaN values in DataFrame). Those were filled with means (for columns of numeric type) or left empty (for columns of other types). \n",
    "\n",
    "Other changes made to DataFrame with Titanic data are: \n",
    "- putting all names of columns into uppercase (just for convenient usage of them)\n",
    "- converting values in SURVIVED column into Boolean type. \n"
   ]
  },
  {
   "cell_type": "markdown",
   "metadata": {
    "id": "z25WMBBROxZ5"
   },
   "source": [
    "#### Preview of the DataFrame\n",
    "_NaN values are visible._"
   ]
  },
  {
   "cell_type": "code",
   "execution_count": 4,
   "metadata": {
    "colab": {
     "base_uri": "https://localhost:8080/",
     "height": 297
    },
    "executionInfo": {
     "elapsed": 2986,
     "status": "ok",
     "timestamp": 1609192073587,
     "user": {
      "displayName": "Kamil Ważny",
      "photoUrl": "",
      "userId": "08396634043841645674"
     },
     "user_tz": -60
    },
    "id": "a5MIGx_lOxZ6",
    "outputId": "955e127a-e96e-4192-a7b4-eba6a0344592"
   },
   "outputs": [
    {
     "data": {
      "text/html": [
       "<div>\n",
       "<style scoped>\n",
       "    .dataframe tbody tr th:only-of-type {\n",
       "        vertical-align: middle;\n",
       "    }\n",
       "\n",
       "    .dataframe tbody tr th {\n",
       "        vertical-align: top;\n",
       "    }\n",
       "\n",
       "    .dataframe thead th {\n",
       "        text-align: right;\n",
       "    }\n",
       "</style>\n",
       "<table border=\"1\" class=\"dataframe\">\n",
       "  <thead>\n",
       "    <tr style=\"text-align: right;\">\n",
       "      <th></th>\n",
       "      <th>PASSENGERID</th>\n",
       "      <th>SURVIVED</th>\n",
       "      <th>SEX</th>\n",
       "      <th>AGE</th>\n",
       "      <th>SIBSP</th>\n",
       "      <th>CABIN</th>\n",
       "    </tr>\n",
       "  </thead>\n",
       "  <tbody>\n",
       "    <tr>\n",
       "      <th>0</th>\n",
       "      <td>1</td>\n",
       "      <td>0</td>\n",
       "      <td>male</td>\n",
       "      <td>22.0</td>\n",
       "      <td>1</td>\n",
       "      <td>NaN</td>\n",
       "    </tr>\n",
       "    <tr>\n",
       "      <th>1</th>\n",
       "      <td>2</td>\n",
       "      <td>1</td>\n",
       "      <td>female</td>\n",
       "      <td>38.0</td>\n",
       "      <td>1</td>\n",
       "      <td>C85</td>\n",
       "    </tr>\n",
       "    <tr>\n",
       "      <th>2</th>\n",
       "      <td>3</td>\n",
       "      <td>1</td>\n",
       "      <td>female</td>\n",
       "      <td>26.0</td>\n",
       "      <td>0</td>\n",
       "      <td>NaN</td>\n",
       "    </tr>\n",
       "    <tr>\n",
       "      <th>3</th>\n",
       "      <td>4</td>\n",
       "      <td>1</td>\n",
       "      <td>female</td>\n",
       "      <td>35.0</td>\n",
       "      <td>1</td>\n",
       "      <td>C123</td>\n",
       "    </tr>\n",
       "    <tr>\n",
       "      <th>4</th>\n",
       "      <td>5</td>\n",
       "      <td>0</td>\n",
       "      <td>male</td>\n",
       "      <td>35.0</td>\n",
       "      <td>0</td>\n",
       "      <td>NaN</td>\n",
       "    </tr>\n",
       "    <tr>\n",
       "      <th>5</th>\n",
       "      <td>6</td>\n",
       "      <td>0</td>\n",
       "      <td>male</td>\n",
       "      <td>NaN</td>\n",
       "      <td>0</td>\n",
       "      <td>NaN</td>\n",
       "    </tr>\n",
       "    <tr>\n",
       "      <th>6</th>\n",
       "      <td>7</td>\n",
       "      <td>0</td>\n",
       "      <td>male</td>\n",
       "      <td>54.0</td>\n",
       "      <td>0</td>\n",
       "      <td>E46</td>\n",
       "    </tr>\n",
       "    <tr>\n",
       "      <th>7</th>\n",
       "      <td>8</td>\n",
       "      <td>0</td>\n",
       "      <td>male</td>\n",
       "      <td>2.0</td>\n",
       "      <td>3</td>\n",
       "      <td>NaN</td>\n",
       "    </tr>\n",
       "  </tbody>\n",
       "</table>\n",
       "</div>"
      ],
      "text/plain": [
       "   PASSENGERID  SURVIVED     SEX   AGE  SIBSP CABIN\n",
       "0            1         0    male  22.0      1   NaN\n",
       "1            2         1  female  38.0      1   C85\n",
       "2            3         1  female  26.0      0   NaN\n",
       "3            4         1  female  35.0      1  C123\n",
       "4            5         0    male  35.0      0   NaN\n",
       "5            6         0    male   NaN      0   NaN\n",
       "6            7         0    male  54.0      0   E46\n",
       "7            8         0    male   2.0      3   NaN"
      ]
     },
     "execution_count": 4,
     "metadata": {},
     "output_type": "execute_result"
    }
   ],
   "source": [
    "titanic_df.iloc[:, [0,1,4,5,6,10]].head(8)"
   ]
  },
  {
   "cell_type": "code",
   "execution_count": 5,
   "metadata": {
    "colab": {
     "base_uri": "https://localhost:8080/"
    },
    "executionInfo": {
     "elapsed": 2981,
     "status": "ok",
     "timestamp": 1609192073588,
     "user": {
      "displayName": "Kamil Ważny",
      "photoUrl": "",
      "userId": "08396634043841645674"
     },
     "user_tz": -60
    },
    "id": "us63RdBjOxaB",
    "outputId": "c17da8b3-f479-4565-d167-38f37ef29482"
   },
   "outputs": [
    {
     "name": "stdout",
     "output_type": "stream",
     "text": [
      "<class 'pandas.core.frame.DataFrame'>\n",
      "RangeIndex: 891 entries, 0 to 890\n",
      "Data columns (total 12 columns):\n",
      " #   Column       Non-Null Count  Dtype  \n",
      "---  ------       --------------  -----  \n",
      " 0   PASSENGERID  891 non-null    int64  \n",
      " 1   SURVIVED     891 non-null    int64  \n",
      " 2   PCLASS       891 non-null    int64  \n",
      " 3   NAME         891 non-null    object \n",
      " 4   SEX          891 non-null    object \n",
      " 5   AGE          714 non-null    float64\n",
      " 6   SIBSP        891 non-null    int64  \n",
      " 7   PARCH        891 non-null    int64  \n",
      " 8   TICKET       891 non-null    object \n",
      " 9   FARE         891 non-null    float64\n",
      " 10  CABIN        204 non-null    object \n",
      " 11  EMBARKED     889 non-null    object \n",
      "dtypes: float64(2), int64(5), object(5)\n",
      "memory usage: 83.7+ KB\n"
     ]
    }
   ],
   "source": [
    "titanic_df.info()"
   ]
  },
  {
   "cell_type": "markdown",
   "metadata": {
    "id": "2vwGdAffOxaF"
   },
   "source": [
    "#### Data Massaging\n",
    "_Getting rid of NaN values_\n",
    "\n",
    "Functions checks for NaN values in each column. If NaNs are found, name of column and count of NaNs is printed. \n",
    "NaN values are filled with means of current column (for numeric types) or left empy fields (for other types)"
   ]
  },
  {
   "cell_type": "code",
   "execution_count": 6,
   "metadata": {
    "colab": {
     "base_uri": "https://localhost:8080/"
    },
    "executionInfo": {
     "elapsed": 2975,
     "status": "ok",
     "timestamp": 1609192073588,
     "user": {
      "displayName": "Kamil Ważny",
      "photoUrl": "",
      "userId": "08396634043841645674"
     },
     "user_tz": -60
    },
    "id": "uUjxx9ekOxaH",
    "outputId": "d909d3a6-c295-4344-e1aa-2b05e988067c"
   },
   "outputs": [
    {
     "name": "stdout",
     "output_type": "stream",
     "text": [
      "AGE 177\n",
      "CABIN 687\n",
      "EMBARKED 2\n"
     ]
    }
   ],
   "source": [
    "def fill_nans(column):\n",
    "    nans = column[column.isnull()]\n",
    "    nans_no = len(nans)\n",
    "    if nans_no > 0:\n",
    "        print(column.name, nans_no)\n",
    "        if column.dtype == 'int64' or column.dtype == 'float64': #for numeric type fill NaNs with mean of the column\n",
    "            column = column.fillna(column.mean())\n",
    "            #column = column.fillna(0)\n",
    "        else: #for other type of NaNs, leave field empy\n",
    "            column = column.fillna('')\n",
    "    return column\n",
    "    \n",
    "titanic_df = titanic_df.apply(fill_nans)"
   ]
  },
  {
   "cell_type": "markdown",
   "metadata": {
    "id": "Ow-lVAUQOxaM"
   },
   "source": [
    "#### Converting values to more convenient type\n",
    "For convenience, type of values in SURVIVED column is changed to Boolean. "
   ]
  },
  {
   "cell_type": "code",
   "execution_count": 7,
   "metadata": {
    "colab": {
     "base_uri": "https://localhost:8080/",
     "height": 204
    },
    "executionInfo": {
     "elapsed": 2970,
     "status": "ok",
     "timestamp": 1609192073589,
     "user": {
      "displayName": "Kamil Ważny",
      "photoUrl": "",
      "userId": "08396634043841645674"
     },
     "user_tz": -60
    },
    "id": "JheEQRNOOxaO",
    "outputId": "0fe956b0-0ae4-4b82-e064-af2b7e491b33"
   },
   "outputs": [
    {
     "data": {
      "text/html": [
       "<div>\n",
       "<style scoped>\n",
       "    .dataframe tbody tr th:only-of-type {\n",
       "        vertical-align: middle;\n",
       "    }\n",
       "\n",
       "    .dataframe tbody tr th {\n",
       "        vertical-align: top;\n",
       "    }\n",
       "\n",
       "    .dataframe thead th {\n",
       "        text-align: right;\n",
       "    }\n",
       "</style>\n",
       "<table border=\"1\" class=\"dataframe\">\n",
       "  <thead>\n",
       "    <tr style=\"text-align: right;\">\n",
       "      <th></th>\n",
       "      <th>PASSENGERID</th>\n",
       "      <th>SURVIVED</th>\n",
       "      <th>PCLASS</th>\n",
       "      <th>NAME</th>\n",
       "      <th>SEX</th>\n",
       "      <th>AGE</th>\n",
       "      <th>SIBSP</th>\n",
       "      <th>PARCH</th>\n",
       "      <th>TICKET</th>\n",
       "      <th>FARE</th>\n",
       "      <th>CABIN</th>\n",
       "      <th>EMBARKED</th>\n",
       "    </tr>\n",
       "  </thead>\n",
       "  <tbody>\n",
       "    <tr>\n",
       "      <th>1</th>\n",
       "      <td>2</td>\n",
       "      <td>True</td>\n",
       "      <td>1</td>\n",
       "      <td>Cumings, Mrs. John Bradley (Florence Briggs Th...</td>\n",
       "      <td>female</td>\n",
       "      <td>38.000000</td>\n",
       "      <td>1</td>\n",
       "      <td>0</td>\n",
       "      <td>PC 17599</td>\n",
       "      <td>71.2833</td>\n",
       "      <td>C85</td>\n",
       "      <td>C</td>\n",
       "    </tr>\n",
       "    <tr>\n",
       "      <th>2</th>\n",
       "      <td>3</td>\n",
       "      <td>True</td>\n",
       "      <td>3</td>\n",
       "      <td>Heikkinen, Miss. Laina</td>\n",
       "      <td>female</td>\n",
       "      <td>26.000000</td>\n",
       "      <td>0</td>\n",
       "      <td>0</td>\n",
       "      <td>STON/O2. 3101282</td>\n",
       "      <td>7.9250</td>\n",
       "      <td></td>\n",
       "      <td>S</td>\n",
       "    </tr>\n",
       "    <tr>\n",
       "      <th>3</th>\n",
       "      <td>4</td>\n",
       "      <td>True</td>\n",
       "      <td>1</td>\n",
       "      <td>Futrelle, Mrs. Jacques Heath (Lily May Peel)</td>\n",
       "      <td>female</td>\n",
       "      <td>35.000000</td>\n",
       "      <td>1</td>\n",
       "      <td>0</td>\n",
       "      <td>113803</td>\n",
       "      <td>53.1000</td>\n",
       "      <td>C123</td>\n",
       "      <td>S</td>\n",
       "    </tr>\n",
       "    <tr>\n",
       "      <th>4</th>\n",
       "      <td>5</td>\n",
       "      <td>False</td>\n",
       "      <td>3</td>\n",
       "      <td>Allen, Mr. William Henry</td>\n",
       "      <td>male</td>\n",
       "      <td>35.000000</td>\n",
       "      <td>0</td>\n",
       "      <td>0</td>\n",
       "      <td>373450</td>\n",
       "      <td>8.0500</td>\n",
       "      <td></td>\n",
       "      <td>S</td>\n",
       "    </tr>\n",
       "    <tr>\n",
       "      <th>5</th>\n",
       "      <td>6</td>\n",
       "      <td>False</td>\n",
       "      <td>3</td>\n",
       "      <td>Moran, Mr. James</td>\n",
       "      <td>male</td>\n",
       "      <td>29.699118</td>\n",
       "      <td>0</td>\n",
       "      <td>0</td>\n",
       "      <td>330877</td>\n",
       "      <td>8.4583</td>\n",
       "      <td></td>\n",
       "      <td>Q</td>\n",
       "    </tr>\n",
       "  </tbody>\n",
       "</table>\n",
       "</div>"
      ],
      "text/plain": [
       "   PASSENGERID  SURVIVED  PCLASS  \\\n",
       "1            2      True       1   \n",
       "2            3      True       3   \n",
       "3            4      True       1   \n",
       "4            5     False       3   \n",
       "5            6     False       3   \n",
       "\n",
       "                                                NAME     SEX        AGE  \\\n",
       "1  Cumings, Mrs. John Bradley (Florence Briggs Th...  female  38.000000   \n",
       "2                             Heikkinen, Miss. Laina  female  26.000000   \n",
       "3       Futrelle, Mrs. Jacques Heath (Lily May Peel)  female  35.000000   \n",
       "4                           Allen, Mr. William Henry    male  35.000000   \n",
       "5                                   Moran, Mr. James    male  29.699118   \n",
       "\n",
       "   SIBSP  PARCH            TICKET     FARE CABIN EMBARKED  \n",
       "1      1      0          PC 17599  71.2833   C85        C  \n",
       "2      0      0  STON/O2. 3101282   7.9250              S  \n",
       "3      1      0            113803  53.1000  C123        S  \n",
       "4      0      0            373450   8.0500              S  \n",
       "5      0      0            330877   8.4583              Q  "
      ]
     },
     "execution_count": 7,
     "metadata": {},
     "output_type": "execute_result"
    }
   ],
   "source": [
    "titanic_df['SURVIVED'] = titanic_df['SURVIVED'].astype(bool) # changing type to BOOL\n",
    "\n",
    "titanic_df.iloc[1:6]"
   ]
  },
  {
   "cell_type": "code",
   "execution_count": 8,
   "metadata": {
    "colab": {
     "base_uri": "https://localhost:8080/"
    },
    "executionInfo": {
     "elapsed": 2965,
     "status": "ok",
     "timestamp": 1609192073589,
     "user": {
      "displayName": "Kamil Ważny",
      "photoUrl": "",
      "userId": "08396634043841645674"
     },
     "user_tz": -60
    },
    "id": "KNGp6EULOxaT",
    "outputId": "886f15f1-733c-484d-f4dc-0796eacefa70"
   },
   "outputs": [
    {
     "name": "stdout",
     "output_type": "stream",
     "text": [
      "<class 'pandas.core.frame.DataFrame'>\n",
      "RangeIndex: 891 entries, 0 to 890\n",
      "Data columns (total 12 columns):\n",
      " #   Column       Non-Null Count  Dtype  \n",
      "---  ------       --------------  -----  \n",
      " 0   PASSENGERID  891 non-null    int64  \n",
      " 1   SURVIVED     891 non-null    bool   \n",
      " 2   PCLASS       891 non-null    int64  \n",
      " 3   NAME         891 non-null    object \n",
      " 4   SEX          891 non-null    object \n",
      " 5   AGE          891 non-null    float64\n",
      " 6   SIBSP        891 non-null    int64  \n",
      " 7   PARCH        891 non-null    int64  \n",
      " 8   TICKET       891 non-null    object \n",
      " 9   FARE         891 non-null    float64\n",
      " 10  CABIN        891 non-null    object \n",
      " 11  EMBARKED     891 non-null    object \n",
      "dtypes: bool(1), float64(2), int64(4), object(5)\n",
      "memory usage: 77.6+ KB\n"
     ]
    }
   ],
   "source": [
    "titanic_df.info()"
   ]
  },
  {
   "cell_type": "markdown",
   "metadata": {
    "id": "7VYTCpNoOxaW"
   },
   "source": [
    "#### Factorizing categorical variables\n",
    "SEX, PCLASS, EMBARKED variables are factorized.\n",
    "Then, to DataFrame additional columns like IS_SEX_MALE, IS_SEX_FEMALES, IS_PCLASS_1 etc. are added. It will be handy to have values in such form for calculatin correlations."
   ]
  },
  {
   "cell_type": "code",
   "execution_count": 9,
   "metadata": {
    "executionInfo": {
     "elapsed": 2964,
     "status": "ok",
     "timestamp": 1609192073589,
     "user": {
      "displayName": "Kamil Ważny",
      "photoUrl": "",
      "userId": "08396634043841645674"
     },
     "user_tz": -60
    },
    "id": "U4R88umxOxaX"
   },
   "outputs": [],
   "source": [
    "for colname in ['SEX','PCLASS','EMBARKED']:\n",
    "    column = titanic_df[colname] \n",
    "    labels, uniques = pd.factorize(column) #changing attribute into factor\n",
    "    for i, category in enumerate(uniques):\n",
    "        try:\n",
    "            category = category.upper()\n",
    "        except:\n",
    "            pass\n",
    "    \n",
    "        newcolname= \"IS_{}_{}\".format(colname, category)\n",
    "        titanic_df[newcolname] = labels == i"
   ]
  },
  {
   "cell_type": "code",
   "execution_count": 10,
   "metadata": {
    "colab": {
     "base_uri": "https://localhost:8080/"
    },
    "executionInfo": {
     "elapsed": 2960,
     "status": "ok",
     "timestamp": 1609192073590,
     "user": {
      "displayName": "Kamil Ważny",
      "photoUrl": "",
      "userId": "08396634043841645674"
     },
     "user_tz": -60
    },
    "id": "JyAuWN_BOxaa",
    "outputId": "77299070-e30c-40f7-9d36-c25edadd1e84"
   },
   "outputs": [
    {
     "data": {
      "text/plain": [
       "PASSENGERID        int64\n",
       "SURVIVED            bool\n",
       "PCLASS             int64\n",
       "NAME              object\n",
       "SEX               object\n",
       "AGE              float64\n",
       "SIBSP              int64\n",
       "PARCH              int64\n",
       "TICKET            object\n",
       "FARE             float64\n",
       "CABIN             object\n",
       "EMBARKED          object\n",
       "IS_SEX_MALE         bool\n",
       "IS_SEX_FEMALE       bool\n",
       "IS_PCLASS_3         bool\n",
       "IS_PCLASS_1         bool\n",
       "IS_PCLASS_2         bool\n",
       "IS_EMBARKED_S       bool\n",
       "IS_EMBARKED_C       bool\n",
       "IS_EMBARKED_Q       bool\n",
       "IS_EMBARKED_        bool\n",
       "dtype: object"
      ]
     },
     "execution_count": 10,
     "metadata": {},
     "output_type": "execute_result"
    }
   ],
   "source": [
    "titanic_df.dtypes"
   ]
  },
  {
   "cell_type": "markdown",
   "metadata": {
    "id": "XumSZ03COxad"
   },
   "source": [
    "# 2. Exploring dataset\n",
    "\n",
    "#### Learning about from its description (means, counts) \n",
    "\n",
    "From Table below, we see that 64.75% of passengers were men, while only 35.25% were women. Average age of passengers was 29.5 years and majority of passengers traveled alone (SIBSP and PARCH equal 0 for 50%). "
   ]
  },
  {
   "cell_type": "code",
   "execution_count": 11,
   "metadata": {
    "colab": {
     "base_uri": "https://localhost:8080/",
     "height": 390
    },
    "executionInfo": {
     "elapsed": 3496,
     "status": "ok",
     "timestamp": 1609192074130,
     "user": {
      "displayName": "Kamil Ważny",
      "photoUrl": "",
      "userId": "08396634043841645674"
     },
     "user_tz": -60
    },
    "id": "fGMR0FPUOxae",
    "outputId": "0703f841-d568-4a2a-bfe5-da39677de75d"
   },
   "outputs": [
    {
     "data": {
      "text/html": [
       "<div>\n",
       "<style scoped>\n",
       "    .dataframe tbody tr th:only-of-type {\n",
       "        vertical-align: middle;\n",
       "    }\n",
       "\n",
       "    .dataframe tbody tr th {\n",
       "        vertical-align: top;\n",
       "    }\n",
       "\n",
       "    .dataframe thead th {\n",
       "        text-align: right;\n",
       "    }\n",
       "</style>\n",
       "<table border=\"1\" class=\"dataframe\">\n",
       "  <thead>\n",
       "    <tr style=\"text-align: right;\">\n",
       "      <th></th>\n",
       "      <th>AGE</th>\n",
       "      <th>SIBSP</th>\n",
       "      <th>PARCH</th>\n",
       "      <th>FARE</th>\n",
       "    </tr>\n",
       "  </thead>\n",
       "  <tbody>\n",
       "    <tr>\n",
       "      <th>count</th>\n",
       "      <td>891.000000</td>\n",
       "      <td>891.000000</td>\n",
       "      <td>891.000000</td>\n",
       "      <td>891.000000</td>\n",
       "    </tr>\n",
       "    <tr>\n",
       "      <th>unique</th>\n",
       "      <td>NaN</td>\n",
       "      <td>NaN</td>\n",
       "      <td>NaN</td>\n",
       "      <td>NaN</td>\n",
       "    </tr>\n",
       "    <tr>\n",
       "      <th>top</th>\n",
       "      <td>NaN</td>\n",
       "      <td>NaN</td>\n",
       "      <td>NaN</td>\n",
       "      <td>NaN</td>\n",
       "    </tr>\n",
       "    <tr>\n",
       "      <th>freq</th>\n",
       "      <td>NaN</td>\n",
       "      <td>NaN</td>\n",
       "      <td>NaN</td>\n",
       "      <td>NaN</td>\n",
       "    </tr>\n",
       "    <tr>\n",
       "      <th>mean</th>\n",
       "      <td>29.699118</td>\n",
       "      <td>0.523008</td>\n",
       "      <td>0.381594</td>\n",
       "      <td>32.204208</td>\n",
       "    </tr>\n",
       "    <tr>\n",
       "      <th>std</th>\n",
       "      <td>13.002015</td>\n",
       "      <td>1.102743</td>\n",
       "      <td>0.806057</td>\n",
       "      <td>49.693429</td>\n",
       "    </tr>\n",
       "    <tr>\n",
       "      <th>min</th>\n",
       "      <td>0.420000</td>\n",
       "      <td>0.000000</td>\n",
       "      <td>0.000000</td>\n",
       "      <td>0.000000</td>\n",
       "    </tr>\n",
       "    <tr>\n",
       "      <th>25%</th>\n",
       "      <td>22.000000</td>\n",
       "      <td>0.000000</td>\n",
       "      <td>0.000000</td>\n",
       "      <td>7.910400</td>\n",
       "    </tr>\n",
       "    <tr>\n",
       "      <th>50%</th>\n",
       "      <td>29.699118</td>\n",
       "      <td>0.000000</td>\n",
       "      <td>0.000000</td>\n",
       "      <td>14.454200</td>\n",
       "    </tr>\n",
       "    <tr>\n",
       "      <th>75%</th>\n",
       "      <td>35.000000</td>\n",
       "      <td>1.000000</td>\n",
       "      <td>0.000000</td>\n",
       "      <td>31.000000</td>\n",
       "    </tr>\n",
       "    <tr>\n",
       "      <th>max</th>\n",
       "      <td>80.000000</td>\n",
       "      <td>8.000000</td>\n",
       "      <td>6.000000</td>\n",
       "      <td>512.329200</td>\n",
       "    </tr>\n",
       "  </tbody>\n",
       "</table>\n",
       "</div>"
      ],
      "text/plain": [
       "               AGE       SIBSP       PARCH        FARE\n",
       "count   891.000000  891.000000  891.000000  891.000000\n",
       "unique         NaN         NaN         NaN         NaN\n",
       "top            NaN         NaN         NaN         NaN\n",
       "freq           NaN         NaN         NaN         NaN\n",
       "mean     29.699118    0.523008    0.381594   32.204208\n",
       "std      13.002015    1.102743    0.806057   49.693429\n",
       "min       0.420000    0.000000    0.000000    0.000000\n",
       "25%      22.000000    0.000000    0.000000    7.910400\n",
       "50%      29.699118    0.000000    0.000000   14.454200\n",
       "75%      35.000000    1.000000    0.000000   31.000000\n",
       "max      80.000000    8.000000    6.000000  512.329200"
      ]
     },
     "execution_count": 11,
     "metadata": {},
     "output_type": "execute_result"
    }
   ],
   "source": [
    "describe_df = titanic_df.describe(include='all')\n",
    "#describe_df.columns\n",
    "\n",
    "describe_df[['AGE','SIBSP','PARCH','FARE']]"
   ]
  },
  {
   "cell_type": "code",
   "execution_count": 12,
   "metadata": {
    "colab": {
     "base_uri": "https://localhost:8080/"
    },
    "executionInfo": {
     "elapsed": 3492,
     "status": "ok",
     "timestamp": 1609192074131,
     "user": {
      "displayName": "Kamil Ważny",
      "photoUrl": "",
      "userId": "08396634043841645674"
     },
     "user_tz": -60
    },
    "id": "HRQJvIsyrWxQ",
    "outputId": "e183c6a5-0142-42b4-ada5-f2c757debeaa"
   },
   "outputs": [
    {
     "data": {
      "text/plain": [
       "IS_SEX_MALE      0.647587\n",
       "IS_SEX_FEMALE    0.352413\n",
       "dtype: float64"
      ]
     },
     "execution_count": 12,
     "metadata": {},
     "output_type": "execute_result"
    }
   ],
   "source": [
    "titanic_df[['IS_SEX_MALE','IS_SEX_FEMALE']].sum()/len(titanic_df)"
   ]
  },
  {
   "cell_type": "markdown",
   "metadata": {
    "id": "NqccZrIhOxah"
   },
   "source": [
    "From Table below, one can learn about the social status of passenger. PCLASS variable could be treated as proxy for socio-economic status. 24.2% passengers were traveling in 1st class, 20.7% traveled in 2nd class and 55.1% traveled in 3rd class."
   ]
  },
  {
   "cell_type": "code",
   "execution_count": 13,
   "metadata": {
    "colab": {
     "base_uri": "https://localhost:8080/"
    },
    "executionInfo": {
     "elapsed": 3487,
     "status": "ok",
     "timestamp": 1609192074131,
     "user": {
      "displayName": "Kamil Ważny",
      "photoUrl": "",
      "userId": "08396634043841645674"
     },
     "user_tz": -60
    },
    "id": "2ZJx_E4hOxai",
    "outputId": "01b3e7b2-6070-48d4-cd2d-506a97eeb65a"
   },
   "outputs": [
    {
     "data": {
      "text/plain": [
       "PCLASS         2057\n",
       "IS_PCLASS_1     216\n",
       "IS_PCLASS_2     184\n",
       "IS_PCLASS_3     491\n",
       "dtype: int64"
      ]
     },
     "execution_count": 13,
     "metadata": {},
     "output_type": "execute_result"
    }
   ],
   "source": [
    "titanic_df[['PCLASS','IS_PCLASS_1','IS_PCLASS_2','IS_PCLASS_3']].sum()"
   ]
  },
  {
   "cell_type": "markdown",
   "metadata": {
    "id": "YwZhEAyVOxal"
   },
   "source": [
    "From next Table, we learn that vast majority of passengers (described in dataset) - 72.3% embarked in Southampton (S), 18.9% in Cherbourg and 8.6% in Queenstown. We do not have embarkation information for 0.2% of passengers (there were only 2 such rows).\n"
   ]
  },
  {
   "cell_type": "code",
   "execution_count": 14,
   "metadata": {
    "colab": {
     "base_uri": "https://localhost:8080/",
     "height": 390
    },
    "executionInfo": {
     "elapsed": 3482,
     "status": "ok",
     "timestamp": 1609192074131,
     "user": {
      "displayName": "Kamil Ważny",
      "photoUrl": "",
      "userId": "08396634043841645674"
     },
     "user_tz": -60
    },
    "id": "I_lUIIS5Oxam",
    "outputId": "41f2bea4-5359-4ff6-cc61-5d7921324713"
   },
   "outputs": [
    {
     "data": {
      "text/html": [
       "<div>\n",
       "<style scoped>\n",
       "    .dataframe tbody tr th:only-of-type {\n",
       "        vertical-align: middle;\n",
       "    }\n",
       "\n",
       "    .dataframe tbody tr th {\n",
       "        vertical-align: top;\n",
       "    }\n",
       "\n",
       "    .dataframe thead th {\n",
       "        text-align: right;\n",
       "    }\n",
       "</style>\n",
       "<table border=\"1\" class=\"dataframe\">\n",
       "  <thead>\n",
       "    <tr style=\"text-align: right;\">\n",
       "      <th></th>\n",
       "      <th>IS_EMBARKED_S</th>\n",
       "      <th>IS_EMBARKED_C</th>\n",
       "      <th>IS_EMBARKED_Q</th>\n",
       "      <th>IS_EMBARKED_</th>\n",
       "    </tr>\n",
       "  </thead>\n",
       "  <tbody>\n",
       "    <tr>\n",
       "      <th>count</th>\n",
       "      <td>891</td>\n",
       "      <td>891</td>\n",
       "      <td>891</td>\n",
       "      <td>891</td>\n",
       "    </tr>\n",
       "    <tr>\n",
       "      <th>unique</th>\n",
       "      <td>2</td>\n",
       "      <td>2</td>\n",
       "      <td>2</td>\n",
       "      <td>2</td>\n",
       "    </tr>\n",
       "    <tr>\n",
       "      <th>top</th>\n",
       "      <td>True</td>\n",
       "      <td>False</td>\n",
       "      <td>False</td>\n",
       "      <td>False</td>\n",
       "    </tr>\n",
       "    <tr>\n",
       "      <th>freq</th>\n",
       "      <td>644</td>\n",
       "      <td>723</td>\n",
       "      <td>814</td>\n",
       "      <td>889</td>\n",
       "    </tr>\n",
       "    <tr>\n",
       "      <th>mean</th>\n",
       "      <td>NaN</td>\n",
       "      <td>NaN</td>\n",
       "      <td>NaN</td>\n",
       "      <td>NaN</td>\n",
       "    </tr>\n",
       "    <tr>\n",
       "      <th>std</th>\n",
       "      <td>NaN</td>\n",
       "      <td>NaN</td>\n",
       "      <td>NaN</td>\n",
       "      <td>NaN</td>\n",
       "    </tr>\n",
       "    <tr>\n",
       "      <th>min</th>\n",
       "      <td>NaN</td>\n",
       "      <td>NaN</td>\n",
       "      <td>NaN</td>\n",
       "      <td>NaN</td>\n",
       "    </tr>\n",
       "    <tr>\n",
       "      <th>25%</th>\n",
       "      <td>NaN</td>\n",
       "      <td>NaN</td>\n",
       "      <td>NaN</td>\n",
       "      <td>NaN</td>\n",
       "    </tr>\n",
       "    <tr>\n",
       "      <th>50%</th>\n",
       "      <td>NaN</td>\n",
       "      <td>NaN</td>\n",
       "      <td>NaN</td>\n",
       "      <td>NaN</td>\n",
       "    </tr>\n",
       "    <tr>\n",
       "      <th>75%</th>\n",
       "      <td>NaN</td>\n",
       "      <td>NaN</td>\n",
       "      <td>NaN</td>\n",
       "      <td>NaN</td>\n",
       "    </tr>\n",
       "    <tr>\n",
       "      <th>max</th>\n",
       "      <td>NaN</td>\n",
       "      <td>NaN</td>\n",
       "      <td>NaN</td>\n",
       "      <td>NaN</td>\n",
       "    </tr>\n",
       "  </tbody>\n",
       "</table>\n",
       "</div>"
      ],
      "text/plain": [
       "       IS_EMBARKED_S IS_EMBARKED_C IS_EMBARKED_Q IS_EMBARKED_\n",
       "count            891           891           891          891\n",
       "unique             2             2             2            2\n",
       "top             True         False         False        False\n",
       "freq             644           723           814          889\n",
       "mean             NaN           NaN           NaN          NaN\n",
       "std              NaN           NaN           NaN          NaN\n",
       "min              NaN           NaN           NaN          NaN\n",
       "25%              NaN           NaN           NaN          NaN\n",
       "50%              NaN           NaN           NaN          NaN\n",
       "75%              NaN           NaN           NaN          NaN\n",
       "max              NaN           NaN           NaN          NaN"
      ]
     },
     "execution_count": 14,
     "metadata": {},
     "output_type": "execute_result"
    }
   ],
   "source": [
    "describe_df[['IS_EMBARKED_S','IS_EMBARKED_C','IS_EMBARKED_Q','IS_EMBARKED_']]"
   ]
  },
  {
   "cell_type": "markdown",
   "metadata": {
    "id": "gk_QJoruOxap"
   },
   "source": [
    "#### Number of survived vs. overall number of passengers\n",
    "\n",
    "It is needed to look how many people are described as survived. The values are presented in Table below. We can learn, that mean chance of surviving (based on our datatest) was about 38% (in reality, only 32% passengers survived the Titanic disaster[1]).\n",
    "\n"
   ]
  },
  {
   "cell_type": "code",
   "execution_count": 15,
   "metadata": {
    "colab": {
     "base_uri": "https://localhost:8080/",
     "height": 80
    },
    "executionInfo": {
     "elapsed": 3478,
     "status": "ok",
     "timestamp": 1609192074132,
     "user": {
      "displayName": "Kamil Ważny",
      "photoUrl": "",
      "userId": "08396634043841645674"
     },
     "user_tz": -60
    },
    "id": "yRIyBhOwOxaq",
    "outputId": "fe6bb674-c5a7-42b6-f47b-40af8719ddd4"
   },
   "outputs": [
    {
     "data": {
      "text/html": [
       "<div>\n",
       "<style scoped>\n",
       "    .dataframe tbody tr th:only-of-type {\n",
       "        vertical-align: middle;\n",
       "    }\n",
       "\n",
       "    .dataframe tbody tr th {\n",
       "        vertical-align: top;\n",
       "    }\n",
       "\n",
       "    .dataframe thead th {\n",
       "        text-align: right;\n",
       "    }\n",
       "</style>\n",
       "<table border=\"1\" class=\"dataframe\">\n",
       "  <thead>\n",
       "    <tr style=\"text-align: right;\">\n",
       "      <th></th>\n",
       "      <th>number of survivors</th>\n",
       "      <th>chance of surviving</th>\n",
       "      <th>number of passengers</th>\n",
       "    </tr>\n",
       "  </thead>\n",
       "  <tbody>\n",
       "    <tr>\n",
       "      <th>0</th>\n",
       "      <td>342</td>\n",
       "      <td>0.383838</td>\n",
       "      <td>891</td>\n",
       "    </tr>\n",
       "  </tbody>\n",
       "</table>\n",
       "</div>"
      ],
      "text/plain": [
       "   number of survivors  chance of surviving  number of passengers\n",
       "0                  342             0.383838                   891"
      ]
     },
     "execution_count": 15,
     "metadata": {},
     "output_type": "execute_result"
    }
   ],
   "source": [
    "pax_overall = len(titanic_df)\n",
    "pax_survived = titanic_df['SURVIVED'].sum()\n",
    "\n",
    "info_df = pd.DataFrame(\n",
    "        data = {\n",
    "        'number of survivors' : [pax_survived],\n",
    "        'chance of surviving' : [pax_survived/float(pax_overall)],\n",
    "        'number of passengers' : [pax_overall]\n",
    "    })\n",
    "\n",
    "info_df"
   ]
  },
  {
   "cell_type": "markdown",
   "metadata": {
    "id": "oRHlDHfgOxas"
   },
   "source": [
    "Creating additional DataFrames for storing information about males and females separatedly"
   ]
  },
  {
   "cell_type": "code",
   "execution_count": 16,
   "metadata": {
    "executionInfo": {
     "elapsed": 3476,
     "status": "ok",
     "timestamp": 1609192074132,
     "user": {
      "displayName": "Kamil Ważny",
      "photoUrl": "",
      "userId": "08396634043841645674"
     },
     "user_tz": -60
    },
    "id": "NWIRffAROxas"
   },
   "outputs": [],
   "source": [
    "pax_sex_groupby = titanic_df.groupby('SEX')\n",
    "survived_groupby = titanic_df.groupby('SURVIVED')\n",
    "\n",
    "males_df = pax_sex_groupby.get_group('male')\n",
    "females_df = pax_sex_groupby.get_group('female')\n",
    "\n",
    "survived_df = survived_groupby.get_group(True)\n",
    "died_df = survived_groupby.get_group(False)\n",
    "\n",
    "males_survived_groupby = males_df.groupby('SURVIVED')\n",
    "females_survived_groupby = females_df.groupby('SURVIVED')\n",
    "\n",
    "males_survived_df = males_survived_groupby.get_group(True)\n",
    "males_died_df = males_survived_groupby.get_group(False)\n",
    "females_survived_df = females_survived_groupby.get_group(True)\n",
    "females_died_df = females_survived_groupby.get_group(False)\n",
    "\n",
    "no_males = len(males_df)\n",
    "no_females = len(females_df)\n",
    "no_males_survived = len(males_survived_df)\n",
    "no_females_survived = len(females_survived_df)"
   ]
  },
  {
   "cell_type": "markdown",
   "metadata": {
    "id": "E9rKw0AJOxau"
   },
   "source": [
    "#### Getting more intuition about the dataset\n"
   ]
  },
  {
   "cell_type": "markdown",
   "metadata": {
    "id": "XwwXNfSdOxav"
   },
   "source": [
    "The plot below presents the age distribution by survival. Those who tragically died in Titanic disaster seemed to be older."
   ]
  },
  {
   "cell_type": "code",
   "execution_count": 17,
   "metadata": {
    "executionInfo": {
     "elapsed": 3475,
     "status": "ok",
     "timestamp": 1609192074132,
     "user": {
      "displayName": "Kamil Ważny",
      "photoUrl": "",
      "userId": "08396634043841645674"
     },
     "user_tz": -60
    },
    "id": "dn88RFFdOxav"
   },
   "outputs": [],
   "source": [
    "survived_ages = list(survived_df['AGE'])\n",
    "died_ages = list(died_df['AGE'])"
   ]
  },
  {
   "cell_type": "code",
   "execution_count": 18,
   "metadata": {
    "colab": {
     "base_uri": "https://localhost:8080/",
     "height": 458
    },
    "executionInfo": {
     "elapsed": 3472,
     "status": "ok",
     "timestamp": 1609192074133,
     "user": {
      "displayName": "Kamil Ważny",
      "photoUrl": "",
      "userId": "08396634043841645674"
     },
     "user_tz": -60
    },
    "id": "BaaRNmuhOxax",
    "outputId": "2a0c3e92-bffc-40ab-96ff-50ea2807ba59"
   },
   "outputs": [
    {
     "data": {
      "image/png": "[encoded data removed]",
      "text/plain": [
       "<Figure size 720x504 with 1 Axes>"
      ]
     },
     "metadata": {
      "needs_background": "light"
     },
     "output_type": "display_data"
    }
   ],
   "source": [
    "plt.figure(figsize=(10, 7))\n",
    "plt.boxplot([survived_ages, died_ages], 0, '') #do not show outliers\n",
    "plt.title('Age Distribution by Survival')\n",
    "plt.xticks([1, 2], ['Survived', 'Died'])\n",
    "plt.ylabel(\"Age distribution\")\n",
    "plt.xlabel(\"Survival\")\n",
    "plt;"
   ]
  },
  {
   "cell_type": "markdown",
   "metadata": {
    "id": "Cr_3jWqROxaz"
   },
   "source": [
    "Below Plot shows distribution of passengers' age taking into account passengers' class. It's visible that on given datasets, 1st class passengers were the oldest ones."
   ]
  },
  {
   "cell_type": "code",
   "execution_count": 19,
   "metadata": {
    "executionInfo": {
     "elapsed": 3471,
     "status": "ok",
     "timestamp": 1609192074133,
     "user": {
      "displayName": "Kamil Ważny",
      "photoUrl": "",
      "userId": "08396634043841645674"
     },
     "user_tz": -60
    },
    "id": "cPFp4AL6Oxaz"
   },
   "outputs": [],
   "source": [
    "pclass1_ages = pd.Series(titanic_df[titanic_df['IS_PCLASS_1']==True]['AGE'])\n",
    "pclass2_ages = pd.Series(titanic_df[titanic_df['IS_PCLASS_2']==True]['AGE'])\n",
    "pclass3_ages = pd.Series(titanic_df[titanic_df['IS_PCLASS_3']==True]['AGE'])"
   ]
  },
  {
   "cell_type": "code",
   "execution_count": 20,
   "metadata": {
    "colab": {
     "base_uri": "https://localhost:8080/",
     "height": 458
    },
    "executionInfo": {
     "elapsed": 3750,
     "status": "ok",
     "timestamp": 1609192074415,
     "user": {
      "displayName": "Kamil Ważny",
      "photoUrl": "",
      "userId": "08396634043841645674"
     },
     "user_tz": -60
    },
    "id": "Uhc80ZwyOxa1",
    "outputId": "59671e39-649a-43f1-9e64-0e2ba4ec9759"
   },
   "outputs": [
    {
     "data": {
      "image/png": "[encoded data removed]",
      "text/plain": [
       "<Figure size 720x504 with 1 Axes>"
      ]
     },
     "metadata": {
      "needs_background": "light"
     },
     "output_type": "display_data"
    }
   ],
   "source": [
    "plt.figure(figsize=(10, 7))\n",
    "plt.title(\"Age distribution by class\")\n",
    "plt.ylabel(\"Age distribution\")\n",
    "plt.xlabel(\"Passenger class\")\n",
    "plt.boxplot([pclass1_ages, pclass2_ages, pclass3_ages],0) #plot without outliers\n",
    "plt;"
   ]
  },
  {
   "cell_type": "markdown",
   "metadata": {
    "id": "XrbF3O_iOxa3"
   },
   "source": [
    "It's also interesting to check relation of fare in context of booking/tickets' class. It is presented on below plot. The 1st class tickets were of course the most expensive, and the fare for 1st had the biggest variety. The 3rd class fare is the cheapest and has the most condensed values."
   ]
  },
  {
   "cell_type": "code",
   "execution_count": 21,
   "metadata": {
    "executionInfo": {
     "elapsed": 3749,
     "status": "ok",
     "timestamp": 1609192074416,
     "user": {
      "displayName": "Kamil Ważny",
      "photoUrl": "",
      "userId": "08396634043841645674"
     },
     "user_tz": -60
    },
    "id": "tLaEQG8vOxa3"
   },
   "outputs": [],
   "source": [
    "pclass1_fares = pd.Series(titanic_df[titanic_df['IS_PCLASS_1']==True]['FARE'])\n",
    "pclass2_fares = pd.Series(titanic_df[titanic_df['IS_PCLASS_2']==True]['FARE'])\n",
    "pclass3_fares = pd.Series(titanic_df[titanic_df['IS_PCLASS_3']==True]['FARE'])"
   ]
  },
  {
   "cell_type": "code",
   "execution_count": 22,
   "metadata": {
    "colab": {
     "base_uri": "https://localhost:8080/",
     "height": 458
    },
    "executionInfo": {
     "elapsed": 4616,
     "status": "ok",
     "timestamp": 1609192075286,
     "user": {
      "displayName": "Kamil Ważny",
      "photoUrl": "",
      "userId": "08396634043841645674"
     },
     "user_tz": -60
    },
    "id": "YsI5khWfOxa5",
    "outputId": "4f55e6ae-f1be-4264-988e-7dd84f693f6a"
   },
   "outputs": [
    {
     "data": {
      "image/png": "[encoded data removed]",
      "text/plain": [
       "<Figure size 720x504 with 1 Axes>"
      ]
     },
     "metadata": {
      "needs_background": "light"
     },
     "output_type": "display_data"
    }
   ],
   "source": [
    "plt.figure(figsize=(10, 7))\n",
    "plt.title(\"Fare distribution by class\")\n",
    "plt.ylabel(\"Fare distribution\")\n",
    "plt.xlabel(\"Passenger class\")\n",
    "plt.boxplot([pclass1_fares, pclass2_fares, pclass3_fares], 0, '') #plot without outliers\n",
    "plt;"
   ]
  },
  {
   "cell_type": "markdown",
   "metadata": {
    "id": "ZTMTKG4bOxa7"
   },
   "source": [
    "What is interesting, is that, for some ticket numbers, there were several records with one ticket number."
   ]
  },
  {
   "cell_type": "code",
   "execution_count": 23,
   "metadata": {
    "colab": {
     "base_uri": "https://localhost:8080/"
    },
    "executionInfo": {
     "elapsed": 4612,
     "status": "ok",
     "timestamp": 1609192075286,
     "user": {
      "displayName": "Kamil Ważny",
      "photoUrl": "",
      "userId": "08396634043841645674"
     },
     "user_tz": -60
    },
    "id": "hWx2Ghj7wlhR",
    "outputId": "b5268c73-3774-4179-f7ef-aa68eb412b66"
   },
   "outputs": [
    {
     "data": {
      "text/plain": [
       "CA. 2343    7\n",
       "1601        7\n",
       "347082      7\n",
       "3101295     6\n",
       "347088      6\n",
       "Name: TICKET, dtype: int64"
      ]
     },
     "execution_count": 23,
     "metadata": {},
     "output_type": "execute_result"
    }
   ],
   "source": [
    "titanic_df.TICKET.value_counts().head()"
   ]
  },
  {
   "cell_type": "code",
   "execution_count": 24,
   "metadata": {
    "colab": {
     "base_uri": "https://localhost:8080/",
     "height": 142
    },
    "executionInfo": {
     "elapsed": 4607,
     "status": "ok",
     "timestamp": 1609192075287,
     "user": {
      "displayName": "Kamil Ważny",
      "photoUrl": "",
      "userId": "08396634043841645674"
     },
     "user_tz": -60
    },
    "id": "_caoywqzOxa8",
    "outputId": "25f1343e-ffe4-4d6c-e63a-e654aa0df203"
   },
   "outputs": [
    {
     "data": {
      "text/html": [
       "<div>\n",
       "<style scoped>\n",
       "    .dataframe tbody tr th:only-of-type {\n",
       "        vertical-align: middle;\n",
       "    }\n",
       "\n",
       "    .dataframe tbody tr th {\n",
       "        vertical-align: top;\n",
       "    }\n",
       "\n",
       "    .dataframe thead th {\n",
       "        text-align: right;\n",
       "    }\n",
       "</style>\n",
       "<table border=\"1\" class=\"dataframe\">\n",
       "  <thead>\n",
       "    <tr style=\"text-align: right;\">\n",
       "      <th></th>\n",
       "      <th>TICKET</th>\n",
       "      <th>PASSENGERID</th>\n",
       "      <th>SURVIVED</th>\n",
       "      <th>PCLASS</th>\n",
       "      <th>NAME</th>\n",
       "      <th>SEX</th>\n",
       "      <th>SIBSP</th>\n",
       "    </tr>\n",
       "  </thead>\n",
       "  <tbody>\n",
       "    <tr>\n",
       "      <th>257</th>\n",
       "      <td>110152</td>\n",
       "      <td>258</td>\n",
       "      <td>True</td>\n",
       "      <td>1</td>\n",
       "      <td>Cherry, Miss. Gladys</td>\n",
       "      <td>female</td>\n",
       "      <td>0</td>\n",
       "    </tr>\n",
       "    <tr>\n",
       "      <th>504</th>\n",
       "      <td>110152</td>\n",
       "      <td>505</td>\n",
       "      <td>True</td>\n",
       "      <td>1</td>\n",
       "      <td>Maioni, Miss. Roberta</td>\n",
       "      <td>female</td>\n",
       "      <td>0</td>\n",
       "    </tr>\n",
       "    <tr>\n",
       "      <th>759</th>\n",
       "      <td>110152</td>\n",
       "      <td>760</td>\n",
       "      <td>True</td>\n",
       "      <td>1</td>\n",
       "      <td>Rothes, the Countess. of (Lucy Noel Martha Dye...</td>\n",
       "      <td>female</td>\n",
       "      <td>0</td>\n",
       "    </tr>\n",
       "  </tbody>\n",
       "</table>\n",
       "</div>"
      ],
      "text/plain": [
       "     TICKET  PASSENGERID  SURVIVED  PCLASS  \\\n",
       "257  110152          258      True       1   \n",
       "504  110152          505      True       1   \n",
       "759  110152          760      True       1   \n",
       "\n",
       "                                                  NAME     SEX  SIBSP  \n",
       "257                               Cherry, Miss. Gladys  female      0  \n",
       "504                              Maioni, Miss. Roberta  female      0  \n",
       "759  Rothes, the Countess. of (Lucy Noel Martha Dye...  female      0  "
      ]
     },
     "execution_count": 24,
     "metadata": {},
     "output_type": "execute_result"
    }
   ],
   "source": [
    "tickets_groupby = titanic_df.groupby('TICKET')\n",
    "tickets_groupby.get_group(list(tickets_groupby.groups.keys())[0])[['TICKET','PASSENGERID','SURVIVED','PCLASS','NAME','SEX','SIBSP']]\n"
   ]
  },
  {
   "cell_type": "markdown",
   "metadata": {
    "id": "Id2JcJ6KOxa-"
   },
   "source": [
    "Below plot, take into consideration 'multiple passengers on ticket' situation. Additionally, the fare valus of 0, were excluded for purposes of creating plot.\n",
    "\n",
    "Still, we can see, that 1st class tickets were the most expensive, though we see much smaller variability of 'fare per passenger' for 2nd and 3rd class."
   ]
  },
  {
   "cell_type": "code",
   "execution_count": 25,
   "metadata": {
    "executionInfo": {
     "elapsed": 6259,
     "status": "ok",
     "timestamp": 1609192076940,
     "user": {
      "displayName": "Kamil Ważny",
      "photoUrl": "",
      "userId": "08396634043841645674"
     },
     "user_tz": -60
    },
    "id": "AM7VEvDoOxa-"
   },
   "outputs": [],
   "source": [
    "pclass1_fares_per_passenger = []\n",
    "pclass2_fares_per_passenger = []\n",
    "pclass3_fares_per_passenger = []\n",
    "\n",
    "fare_class_infos = pd.DataFrame()\n",
    "\n",
    "for i, group in enumerate(tickets_groupby.groups):\n",
    "    fare_class_info = tickets_groupby.get_group(group)[['FARE','PCLASS','AGE']]\n",
    "    no_passengers_on_ticket = len(fare_class_info)\n",
    "    fare = fare_class_info['FARE'].iloc[0] # take first value from the group\n",
    "    fare_per_passenger = 0.0\n",
    "    pclass = fare_class_info['PCLASS'].iloc[0]\n",
    "    if fare == 0.0: # exclude 0.0 fare from analysis, probably those are equivalents of NaN values for FARE column\n",
    "        continue\n",
    "    else:\n",
    "        fare_per_passenger = fare/no_passengers_on_ticket\n",
    "\n",
    "    if pclass == 1:\n",
    "        pclass1_fares_per_passenger.append(fare_per_passenger)\n",
    "    elif pclass == 2:\n",
    "        pclass2_fares_per_passenger.append(fare_per_passenger)\n",
    "    elif pclass == 3:\n",
    "        pclass3_fares_per_passenger.append(fare_per_passenger)    \n",
    "    \n",
    "    info = pd.DataFrame(index = [i],  \n",
    "                        data = {'AGE' : fare_class_info['AGE'].iloc[0],'FARE' : fare_per_passenger,'PCLASS' : pclass})\n",
    "    fare_class_infos = fare_class_infos.append(info)\n"
   ]
  },
  {
   "cell_type": "code",
   "execution_count": 26,
   "metadata": {
    "colab": {
     "base_uri": "https://localhost:8080/",
     "height": 458
    },
    "executionInfo": {
     "elapsed": 6255,
     "status": "ok",
     "timestamp": 1609192076940,
     "user": {
      "displayName": "Kamil Ważny",
      "photoUrl": "",
      "userId": "08396634043841645674"
     },
     "user_tz": -60
    },
    "id": "Mhw7Llp0OxbA",
    "outputId": "28332dff-1925-4340-d5b8-181f57fee46d"
   },
   "outputs": [
    {
     "data": {
      "image/png": "[encoded data removed]",
      "text/plain": [
       "<Figure size 720x504 with 1 Axes>"
      ]
     },
     "metadata": {
      "needs_background": "light"
     },
     "output_type": "display_data"
    }
   ],
   "source": [
    "plt.figure(figsize=(10, 7))\n",
    "plt.title(\"'Fare per passenger' distribution by class\")\n",
    "plt.ylabel(\"'Fare per passenger' distribution\"); plt.xlabel(\"Passenger class\");\n",
    "plt.boxplot([pclass1_fares_per_passenger, pclass2_fares_per_passenger, pclass3_fares_per_passenger], 0, ''); #plot without outliers"
   ]
  },
  {
   "cell_type": "markdown",
   "metadata": {
    "id": "bpuS6yKhOxbB"
   },
   "source": [
    "Next plot, presents age distribution by 'fer per passenger'."
   ]
  },
  {
   "cell_type": "code",
   "execution_count": 27,
   "metadata": {
    "colab": {
     "base_uri": "https://localhost:8080/",
     "height": 458
    },
    "executionInfo": {
     "elapsed": 6928,
     "status": "ok",
     "timestamp": 1609192077617,
     "user": {
      "displayName": "Kamil Ważny",
      "photoUrl": "",
      "userId": "08396634043841645674"
     },
     "user_tz": -60
    },
    "id": "5OCVNWHIOxbC",
    "outputId": "5c72f472-fc92-42bf-ef8f-088ec3ceb0c2"
   },
   "outputs": [
    {
     "data": {
      "image/png": "[encoded data removed]",
      "text/plain": [
       "<Figure size 864x504 with 1 Axes>"
      ]
     },
     "metadata": {
      "needs_background": "light"
     },
     "output_type": "display_data"
    }
   ],
   "source": [
    "fare_class_infos.plot('AGE', 'FARE',\n",
    "                      kind = 'scatter', \n",
    "                      colorbar = False, \n",
    "                      title = \"Age by 'Fare per passenger'\", figsize=(12,7));"
   ]
  },
  {
   "cell_type": "markdown",
   "metadata": {
    "id": "qsQgKTTHOxbE"
   },
   "source": [
    "#### Finding correlations between SURVIVED column and other variables\n",
    "\n",
    "To be able to state proper questions for further investigation, it was decided to look at first at the correlations between variables describing passengers. Plot below shows the correlations (x axis) between event of surviving and other variables (y axis).\n",
    "\n",
    "\n",
    "One can observe, that surviving is mostly corelated with:\n",
    "- SEX (positive for females, negative for males)\n",
    "- PCLASS (positive for classes 1st and 2nd, negative for 3rd)\n",
    "- FARE (positive)\n",
    "- EMBARKATION in Cherbourg (positive)\n",
    "- EMBARKATION in Southampton (negative)\n",
    "- AGE (negative)"
   ]
  },
  {
   "cell_type": "code",
   "execution_count": 28,
   "metadata": {
    "executionInfo": {
     "elapsed": 6927,
     "status": "ok",
     "timestamp": 1609192077617,
     "user": {
      "displayName": "Kamil Ważny",
      "photoUrl": "",
      "userId": "08396634043841645674"
     },
     "user_tz": -60
    },
    "id": "6jSxywK-OxbF"
   },
   "outputs": [],
   "source": [
    "corr_df = titanic_df.corr(method='spearman')[['SURVIVED']]\n",
    "corr_df = corr_df.drop(['PASSENGERID','SURVIVED']) # columns between those columns ans SURVIVED is meaningless, so delete\n"
   ]
  },
  {
   "cell_type": "code",
   "execution_count": 29,
   "metadata": {
    "colab": {
     "base_uri": "https://localhost:8080/",
     "height": 458
    },
    "executionInfo": {
     "elapsed": 6925,
     "status": "ok",
     "timestamp": 1609192077618,
     "user": {
      "displayName": "Kamil Ważny",
      "photoUrl": "",
      "userId": "08396634043841645674"
     },
     "user_tz": -60
    },
    "id": "u49NPrXqOxbG",
    "outputId": "39fe8b23-af79-44a9-aca0-a40e9536e5a3"
   },
   "outputs": [
    {
     "data": {
      "image/png": "[encoded data removed]",
      "text/plain": [
       "<Figure size 720x504 with 1 Axes>"
      ]
     },
     "metadata": {
      "needs_background": "light"
     },
     "output_type": "display_data"
    }
   ],
   "source": [
    "plot = corr_df.plot(kind='barh', \n",
    "                   title=\"Correlations between event of surviving and other variables.\", \n",
    "                   legend=False, \n",
    "                   figsize=(10,7))\n",
    "plot.set_xlabel(\"Correlation\"); plot.set_ylabel(\"Variable name\");"
   ]
  },
  {
   "cell_type": "markdown",
   "metadata": {
    "id": "Nz3_zHyWOxbI"
   },
   "source": [
    "# 3. Questions and investigation"
   ]
  },
  {
   "cell_type": "markdown",
   "metadata": {
    "id": "noZYoQjCOxbJ"
   },
   "source": [
    "It is well know fact, that correlation does not imply causation, though it is a good starting point for further investigation. \n",
    "\n",
    "In this report I investigated relations between surviving and passenger sex, passenger class and age. In other words, **further analysis is about what factors contributed to survivability**.\n",
    "\n",
    "Question which I tried to address are:\n",
    "- *Were women more likely to survive?*\n",
    "- *Were first/second class passengers more likely to survive than second/third class passengers?*\n",
    "- *Were children prefered as passengers of lifeboats?*\n",
    "\n",
    "To address first question, whether more women survived than men let’s look in the numbers. "
   ]
  },
  {
   "cell_type": "markdown",
   "metadata": {
    "id": "ZJidOiFcOxbJ"
   },
   "source": [
    "### Number of survived males and females vs. overall numbers\n",
    "\n",
    "Table below depicts number of survivors divided by sex.\n",
    "\n",
    "From given dataset we see, that more women (by percent) survived. 74.2% women survived, while only 18.9% men. Also, one can learn, that male survivors seemed to be slightly younger in average than females. \n",
    "\n",
    "It looks like, indeed, men were in much worse situation during Titanic evacuation.\n"
   ]
  },
  {
   "cell_type": "code",
   "execution_count": 30,
   "metadata": {
    "executionInfo": {
     "elapsed": 6923,
     "status": "ok",
     "timestamp": 1609192077618,
     "user": {
      "displayName": "Kamil Ważny",
      "photoUrl": "",
      "userId": "08396634043841645674"
     },
     "user_tz": -60
    },
    "id": "EXCaBD1XOxbK"
   },
   "outputs": [],
   "source": [
    "info_males_females_df = pd.DataFrame(\n",
    "        index = ['male','female'],\n",
    "        data = {\n",
    "        'number of survivors' : [no_males_survived, no_females_survived],\n",
    "        'chance of surviving' : [no_males_survived/float(no_males), no_females_survived/float(no_females)],\n",
    "        'number of passengers' : [no_males, no_females],\n",
    "        'mean age of survivors' : [males_survived_df['AGE'].mean(), females_survived_df['AGE'].mean()]\n",
    "    })"
   ]
  },
  {
   "cell_type": "code",
   "execution_count": 31,
   "metadata": {
    "colab": {
     "base_uri": "https://localhost:8080/",
     "height": 111
    },
    "executionInfo": {
     "elapsed": 6920,
     "status": "ok",
     "timestamp": 1609192077618,
     "user": {
      "displayName": "Kamil Ważny",
      "photoUrl": "",
      "userId": "08396634043841645674"
     },
     "user_tz": -60
    },
    "id": "e9rZwClEOxbL",
    "outputId": "969a1742-3e49-4ab7-e94c-dba7e17f7163"
   },
   "outputs": [
    {
     "data": {
      "text/html": [
       "<div>\n",
       "<style scoped>\n",
       "    .dataframe tbody tr th:only-of-type {\n",
       "        vertical-align: middle;\n",
       "    }\n",
       "\n",
       "    .dataframe tbody tr th {\n",
       "        vertical-align: top;\n",
       "    }\n",
       "\n",
       "    .dataframe thead th {\n",
       "        text-align: right;\n",
       "    }\n",
       "</style>\n",
       "<table border=\"1\" class=\"dataframe\">\n",
       "  <thead>\n",
       "    <tr style=\"text-align: right;\">\n",
       "      <th></th>\n",
       "      <th>number of survivors</th>\n",
       "      <th>chance of surviving</th>\n",
       "      <th>number of passengers</th>\n",
       "      <th>mean age of survivors</th>\n",
       "    </tr>\n",
       "  </thead>\n",
       "  <tbody>\n",
       "    <tr>\n",
       "      <th>male</th>\n",
       "      <td>109</td>\n",
       "      <td>0.188908</td>\n",
       "      <td>577</td>\n",
       "      <td>27.631705</td>\n",
       "    </tr>\n",
       "    <tr>\n",
       "      <th>female</th>\n",
       "      <td>233</td>\n",
       "      <td>0.742038</td>\n",
       "      <td>314</td>\n",
       "      <td>28.979263</td>\n",
       "    </tr>\n",
       "  </tbody>\n",
       "</table>\n",
       "</div>"
      ],
      "text/plain": [
       "        number of survivors  chance of surviving  number of passengers  \\\n",
       "male                    109             0.188908                   577   \n",
       "female                  233             0.742038                   314   \n",
       "\n",
       "        mean age of survivors  \n",
       "male                27.631705  \n",
       "female              28.979263  "
      ]
     },
     "execution_count": 31,
     "metadata": {},
     "output_type": "execute_result"
    }
   ],
   "source": [
    "info_males_females_df"
   ]
  },
  {
   "cell_type": "markdown",
   "metadata": {
    "id": "zVUctkPMOxbN"
   },
   "source": [
    "### Number of survived split by PCLASS\n",
    "\n",
    "Let’s explore enother feature. Did the class play any role in surviving Titanic’s crash? \n",
    "\n",
    "In Table below we see results. Additionaly mean chance of surviving was depicted on the Plot.\n"
   ]
  },
  {
   "cell_type": "code",
   "execution_count": 32,
   "metadata": {
    "colab": {
     "base_uri": "https://localhost:8080/",
     "height": 173
    },
    "executionInfo": {
     "elapsed": 6916,
     "status": "ok",
     "timestamp": 1609192077619,
     "user": {
      "displayName": "Kamil Ważny",
      "photoUrl": "",
      "userId": "08396634043841645674"
     },
     "user_tz": -60
    },
    "id": "zQiGO2EDOxbN",
    "outputId": "7ef36520-a6a5-4b9b-c601-7f611a29612b"
   },
   "outputs": [
    {
     "data": {
      "text/html": [
       "<div>\n",
       "<style scoped>\n",
       "    .dataframe tbody tr th:only-of-type {\n",
       "        vertical-align: middle;\n",
       "    }\n",
       "\n",
       "    .dataframe tbody tr th {\n",
       "        vertical-align: top;\n",
       "    }\n",
       "\n",
       "    .dataframe thead th {\n",
       "        text-align: right;\n",
       "    }\n",
       "</style>\n",
       "<table border=\"1\" class=\"dataframe\">\n",
       "  <thead>\n",
       "    <tr style=\"text-align: right;\">\n",
       "      <th></th>\n",
       "      <th>mean age</th>\n",
       "      <th>mean fare</th>\n",
       "      <th>mean chance of surviving</th>\n",
       "    </tr>\n",
       "    <tr>\n",
       "      <th>PCLASS</th>\n",
       "      <th></th>\n",
       "      <th></th>\n",
       "      <th></th>\n",
       "    </tr>\n",
       "  </thead>\n",
       "  <tbody>\n",
       "    <tr>\n",
       "      <th>1</th>\n",
       "      <td>37.048118</td>\n",
       "      <td>84.154687</td>\n",
       "      <td>0.629630</td>\n",
       "    </tr>\n",
       "    <tr>\n",
       "      <th>2</th>\n",
       "      <td>29.866958</td>\n",
       "      <td>20.662183</td>\n",
       "      <td>0.472826</td>\n",
       "    </tr>\n",
       "    <tr>\n",
       "      <th>3</th>\n",
       "      <td>26.403259</td>\n",
       "      <td>13.675550</td>\n",
       "      <td>0.242363</td>\n",
       "    </tr>\n",
       "  </tbody>\n",
       "</table>\n",
       "</div>"
      ],
      "text/plain": [
       "         mean age  mean fare  mean chance of surviving\n",
       "PCLASS                                                \n",
       "1       37.048118  84.154687                  0.629630\n",
       "2       29.866958  20.662183                  0.472826\n",
       "3       26.403259  13.675550                  0.242363"
      ]
     },
     "execution_count": 32,
     "metadata": {},
     "output_type": "execute_result"
    }
   ],
   "source": [
    "titanic_classes_groupby = titanic_df.groupby(['PCLASS'])\n",
    "info_classes_df = titanic_classes_groupby.mean()[['AGE','FARE','SURVIVED']]\n",
    "\n",
    "info_classes_df.columns = ['mean age','mean fare', 'mean chance of surviving']\n",
    "info_classes_df"
   ]
  },
  {
   "cell_type": "code",
   "execution_count": 33,
   "metadata": {
    "colab": {
     "base_uri": "https://localhost:8080/",
     "height": 295
    },
    "executionInfo": {
     "elapsed": 7262,
     "status": "ok",
     "timestamp": 1609192077968,
     "user": {
      "displayName": "Kamil Ważny",
      "photoUrl": "",
      "userId": "08396634043841645674"
     },
     "user_tz": -60
    },
    "id": "OZpV_Y8jOxbP",
    "outputId": "5d3065c2-76fa-47cb-fa12-8c7904c88efc"
   },
   "outputs": [
    {
     "data": {
      "image/png": "[encoded data removed]",
      "text/plain": [
       "<Figure size 432x288 with 1 Axes>"
      ]
     },
     "metadata": {
      "needs_background": "light"
     },
     "output_type": "display_data"
    }
   ],
   "source": [
    "plot = info_classes_df['mean chance of surviving'].plot(kind='barh', title=\"Mean chance of surviving\")\n",
    "plot.set_xlabel(\"Probability\")\n",
    "plot.set_ylabel(\"Passenger clas\");"
   ]
  },
  {
   "cell_type": "markdown",
   "metadata": {
    "id": "D437h5bMOxbS"
   },
   "source": [
    "Looking at above data, it’s visible that (in given dataset) 62.9% of 1st class passengers survived, 47.3% of 2nd class and only 24.2% of 3rd class passengers. Additionally we can see that passengers of 1st and 2nd class in average were older, and paid more for tickets.\n"
   ]
  },
  {
   "cell_type": "markdown",
   "metadata": {
    "id": "rwgVAMZLOxbS"
   },
   "source": [
    "### Survivors divided by SEX and PCLASS\n",
    "\n",
    "Let’s combine those two features, sex and passenger and see, how it does look together. Table and Plot below contain information about survivors, divide by sex and class.\n"
   ]
  },
  {
   "cell_type": "code",
   "execution_count": 34,
   "metadata": {
    "executionInfo": {
     "elapsed": 7261,
     "status": "ok",
     "timestamp": 1609192077969,
     "user": {
      "displayName": "Kamil Ważny",
      "photoUrl": "",
      "userId": "08396634043841645674"
     },
     "user_tz": -60
    },
    "id": "viuEIGqsOxbT"
   },
   "outputs": [],
   "source": [
    "titanic_classes_sex_groupby = titanic_df.groupby(['SEX','PCLASS'])\n",
    "titanic_classes_sex_means = titanic_classes_sex_groupby.mean()[['SURVIVED','AGE']]\n",
    "\n",
    "titanic_classes_sex_means.columns = ['mean chance of surviving','mean age']\n",
    "\n",
    "# group by SEX and PCLASS, but only survivors\n",
    "titanic_survived_classes_sex_groupby = titanic_df.groupby(['SURVIVED']).get_group(True).groupby(['SEX','PCLASS'])\n",
    "titanic_survived_classes_sex_means = titanic_survived_classes_sex_groupby.mean()[['AGE']]\n",
    "titanic_survived_classes_sex_means.columns = ['mean age of survivors']"
   ]
  },
  {
   "cell_type": "code",
   "execution_count": 35,
   "metadata": {
    "colab": {
     "base_uri": "https://localhost:8080/",
     "height": 266
    },
    "executionInfo": {
     "elapsed": 7258,
     "status": "ok",
     "timestamp": 1609192077969,
     "user": {
      "displayName": "Kamil Ważny",
      "photoUrl": "",
      "userId": "08396634043841645674"
     },
     "user_tz": -60
    },
    "id": "x963kM9JOxbU",
    "outputId": "257a5245-cc05-4c6b-8dbc-7535837d4e23"
   },
   "outputs": [
    {
     "data": {
      "text/html": [
       "<div>\n",
       "<style scoped>\n",
       "    .dataframe tbody tr th:only-of-type {\n",
       "        vertical-align: middle;\n",
       "    }\n",
       "\n",
       "    .dataframe tbody tr th {\n",
       "        vertical-align: top;\n",
       "    }\n",
       "\n",
       "    .dataframe thead th {\n",
       "        text-align: right;\n",
       "    }\n",
       "</style>\n",
       "<table border=\"1\" class=\"dataframe\">\n",
       "  <thead>\n",
       "    <tr style=\"text-align: right;\">\n",
       "      <th></th>\n",
       "      <th></th>\n",
       "      <th>mean age of survivors</th>\n",
       "      <th>mean chance of surviving</th>\n",
       "      <th>mean age</th>\n",
       "    </tr>\n",
       "    <tr>\n",
       "      <th>SEX</th>\n",
       "      <th>PCLASS</th>\n",
       "      <th></th>\n",
       "      <th></th>\n",
       "      <th></th>\n",
       "    </tr>\n",
       "  </thead>\n",
       "  <tbody>\n",
       "    <tr>\n",
       "      <th rowspan=\"3\" valign=\"top\">female</th>\n",
       "      <th>1</th>\n",
       "      <td>34.420792</td>\n",
       "      <td>0.968085</td>\n",
       "      <td>34.141405</td>\n",
       "    </tr>\n",
       "    <tr>\n",
       "      <th>2</th>\n",
       "      <td>28.127118</td>\n",
       "      <td>0.921053</td>\n",
       "      <td>28.748661</td>\n",
       "    </tr>\n",
       "    <tr>\n",
       "      <th>3</th>\n",
       "      <td>22.930249</td>\n",
       "      <td>0.500000</td>\n",
       "      <td>24.068493</td>\n",
       "    </tr>\n",
       "    <tr>\n",
       "      <th rowspan=\"3\" valign=\"top\">male</th>\n",
       "      <th>1</th>\n",
       "      <td>35.520346</td>\n",
       "      <td>0.368852</td>\n",
       "      <td>39.287717</td>\n",
       "    </tr>\n",
       "    <tr>\n",
       "      <th>2</th>\n",
       "      <td>17.631073</td>\n",
       "      <td>0.157407</td>\n",
       "      <td>30.653908</td>\n",
       "    </tr>\n",
       "    <tr>\n",
       "      <th>3</th>\n",
       "      <td>23.696001</td>\n",
       "      <td>0.135447</td>\n",
       "      <td>27.372153</td>\n",
       "    </tr>\n",
       "  </tbody>\n",
       "</table>\n",
       "</div>"
      ],
      "text/plain": [
       "               mean age of survivors  mean chance of surviving   mean age\n",
       "SEX    PCLASS                                                            \n",
       "female 1                   34.420792                  0.968085  34.141405\n",
       "       2                   28.127118                  0.921053  28.748661\n",
       "       3                   22.930249                  0.500000  24.068493\n",
       "male   1                   35.520346                  0.368852  39.287717\n",
       "       2                   17.631073                  0.157407  30.653908\n",
       "       3                   23.696001                  0.135447  27.372153"
      ]
     },
     "execution_count": 35,
     "metadata": {},
     "output_type": "execute_result"
    }
   ],
   "source": [
    "#merge two DataFrames\n",
    "titanic_survived_classes_sex_means.merge(titanic_classes_sex_means, on=None, left_index=True, right_index=True)"
   ]
  },
  {
   "cell_type": "code",
   "execution_count": 36,
   "metadata": {
    "colab": {
     "base_uri": "https://localhost:8080/",
     "height": 295
    },
    "executionInfo": {
     "elapsed": 7254,
     "status": "ok",
     "timestamp": 1609192077969,
     "user": {
      "displayName": "Kamil Ważny",
      "photoUrl": "",
      "userId": "08396634043841645674"
     },
     "user_tz": -60
    },
    "id": "49V8GRvTOxbW",
    "outputId": "3f536f92-b963-4b1a-a6d7-314ebe443622"
   },
   "outputs": [
    {
     "data": {
      "image/png": "[encoded data removed]",
      "text/plain": [
       "<Figure size 432x288 with 1 Axes>"
      ]
     },
     "metadata": {
      "needs_background": "light"
     },
     "output_type": "display_data"
    }
   ],
   "source": [
    "plot = titanic_classes_sex_means['mean chance of surviving'].plot(kind='barh')\n",
    "plot.set_title(\"Mean chance of surviving by sex and class\")\n",
    "plot.set_xlabel(\"Probability\")\n",
    "plot.set_ylabel(\"(Sex of passenger, Passenger class)\");"
   ]
  },
  {
   "cell_type": "markdown",
   "metadata": {
    "id": "Ry6HZc-VOxbY"
   },
   "source": [
    "It looks, like women were far more likely to survive than men. Even females from 3rd class in given dataset survived in 50% cases. From Table above we can learn, that (with one exception for females in 1st class) survivors were in average younger.\n",
    "\n",
    "Also, it seems that with higher class went higher chance of survival."
   ]
  },
  {
   "cell_type": "markdown",
   "metadata": {
    "id": "FI2ibu_nOxbY"
   },
   "source": [
    "### Survivors among children\n",
    "\n",
    "Last question, addressed the situation of children. For purpose of this investigation it was assumed that children are male or females below 16. Tables below present the data about survival rate of children on Titanic."
   ]
  },
  {
   "cell_type": "code",
   "execution_count": 37,
   "metadata": {
    "executionInfo": {
     "elapsed": 7253,
     "status": "ok",
     "timestamp": 1609192077970,
     "user": {
      "displayName": "Kamil Ważny",
      "photoUrl": "",
      "userId": "08396634043841645674"
     },
     "user_tz": -60
    },
    "id": "DeHQcy8sOxbZ"
   },
   "outputs": [],
   "source": [
    "#let's assume the child is male or female younger than 16\n",
    "children_df = titanic_df[titanic_df['AGE'] <= 15]\n",
    "children_survived_df = children_df[children_df['SURVIVED'] == True]\n",
    "no_children = len(children_df)\n",
    "no_children_survived = len(children_survived_df)\n",
    "\n",
    "describe_df2 = pd.DataFrame(\n",
    "        index = ['children'],\n",
    "        data = {\n",
    "        'survived' : [no_children_survived],\n",
    "        '% survived' : [no_children_survived/float(no_children)],\n",
    "        '% survived (of all survivors)' : [no_children_survived/float(pax_survived)],\n",
    "        'overall' : [no_children],\n",
    "        '% of all passengers': [no_children/float(pax_overall)]\n",
    "    })"
   ]
  },
  {
   "cell_type": "code",
   "execution_count": 38,
   "metadata": {
    "colab": {
     "base_uri": "https://localhost:8080/",
     "height": 80
    },
    "executionInfo": {
     "elapsed": 7250,
     "status": "ok",
     "timestamp": 1609192077970,
     "user": {
      "displayName": "Kamil Ważny",
      "photoUrl": "",
      "userId": "08396634043841645674"
     },
     "user_tz": -60
    },
    "id": "g1eC68LSOxba",
    "outputId": "9a7236d4-7488-4038-e97e-dd090f96f750"
   },
   "outputs": [
    {
     "data": {
      "text/html": [
       "<div>\n",
       "<style scoped>\n",
       "    .dataframe tbody tr th:only-of-type {\n",
       "        vertical-align: middle;\n",
       "    }\n",
       "\n",
       "    .dataframe tbody tr th {\n",
       "        vertical-align: top;\n",
       "    }\n",
       "\n",
       "    .dataframe thead th {\n",
       "        text-align: right;\n",
       "    }\n",
       "</style>\n",
       "<table border=\"1\" class=\"dataframe\">\n",
       "  <thead>\n",
       "    <tr style=\"text-align: right;\">\n",
       "      <th></th>\n",
       "      <th>survived</th>\n",
       "      <th>% survived</th>\n",
       "      <th>% survived (of all survivors)</th>\n",
       "      <th>overall</th>\n",
       "      <th>% of all passengers</th>\n",
       "    </tr>\n",
       "  </thead>\n",
       "  <tbody>\n",
       "    <tr>\n",
       "      <th>children</th>\n",
       "      <td>49</td>\n",
       "      <td>0.590361</td>\n",
       "      <td>0.143275</td>\n",
       "      <td>83</td>\n",
       "      <td>0.093154</td>\n",
       "    </tr>\n",
       "  </tbody>\n",
       "</table>\n",
       "</div>"
      ],
      "text/plain": [
       "          survived  % survived  % survived (of all survivors)  overall  \\\n",
       "children        49    0.590361                       0.143275       83   \n",
       "\n",
       "          % of all passengers  \n",
       "children             0.093154  "
      ]
     },
     "execution_count": 38,
     "metadata": {},
     "output_type": "execute_result"
    }
   ],
   "source": [
    "describe_df2"
   ]
  },
  {
   "cell_type": "code",
   "execution_count": 39,
   "metadata": {
    "colab": {
     "base_uri": "https://localhost:8080/",
     "height": 173
    },
    "executionInfo": {
     "elapsed": 8069,
     "status": "ok",
     "timestamp": 1609192078793,
     "user": {
      "displayName": "Kamil Ważny",
      "photoUrl": "",
      "userId": "08396634043841645674"
     },
     "user_tz": -60
    },
    "id": "MEtajiwTOxbc",
    "outputId": "11082bde-7cb9-4cdd-80ec-d2183d05ac05"
   },
   "outputs": [
    {
     "data": {
      "text/html": [
       "<div>\n",
       "<style scoped>\n",
       "    .dataframe tbody tr th:only-of-type {\n",
       "        vertical-align: middle;\n",
       "    }\n",
       "\n",
       "    .dataframe tbody tr th {\n",
       "        vertical-align: top;\n",
       "    }\n",
       "\n",
       "    .dataframe thead th {\n",
       "        text-align: right;\n",
       "    }\n",
       "</style>\n",
       "<table border=\"1\" class=\"dataframe\">\n",
       "  <thead>\n",
       "    <tr style=\"text-align: right;\">\n",
       "      <th></th>\n",
       "      <th>mean chance of surviving</th>\n",
       "    </tr>\n",
       "    <tr>\n",
       "      <th>PCLASS</th>\n",
       "      <th></th>\n",
       "    </tr>\n",
       "  </thead>\n",
       "  <tbody>\n",
       "    <tr>\n",
       "      <th>1</th>\n",
       "      <td>0.833333</td>\n",
       "    </tr>\n",
       "    <tr>\n",
       "      <th>2</th>\n",
       "      <td>1.000000</td>\n",
       "    </tr>\n",
       "    <tr>\n",
       "      <th>3</th>\n",
       "      <td>0.431034</td>\n",
       "    </tr>\n",
       "  </tbody>\n",
       "</table>\n",
       "</div>"
      ],
      "text/plain": [
       "        mean chance of surviving\n",
       "PCLASS                          \n",
       "1                       0.833333\n",
       "2                       1.000000\n",
       "3                       0.431034"
      ]
     },
     "execution_count": 39,
     "metadata": {},
     "output_type": "execute_result"
    }
   ],
   "source": [
    "children_class_df = children_df.groupby(['PCLASS']).mean()[['SURVIVED']]\n",
    "children_class_df.columns = ['mean chance of surviving']\n",
    "children_class_df"
   ]
  },
  {
   "cell_type": "markdown",
   "metadata": {
    "id": "qbxWzwoVOxbe"
   },
   "source": [
    "# 4. Findings and statistically significant results\n",
    "\n",
    "All above results were just simple depiction of data from given dataset. To infer some knowledge about general population, one has to state a null hypothesis and a alternative hypothesis. The statistical tests have to be performed to reject (or fail to reject) the null.\n",
    "\n",
    "Coming back to stated questions, several null hypotheses were created.\n",
    "- *Survivors were in average the same age as those who died in Titanic disaster.*\n",
    "- *Men who survived were in average the same age as those who died.*\n",
    "- *Females who survived in average were the same age as those who died.*\n",
    "- *Average chance of surviving does not depend on whether passenger was a man or woman in different class.*\n",
    "\n",
    "First three could be checked using independent T-test. But, before that, it has to be checked if given dataset meets requirements for using this test."
   ]
  },
  {
   "cell_type": "markdown",
   "metadata": {
    "id": "f-IIjsfzOxbe"
   },
   "source": [
    "### Investigating the influence of age on surival rate\n",
    "Histograms of ages of survivors and deceased. \n",
    "In histrogram big 'peak' is located around 30-years of age. It is located there because mean value of age was used to fill NaN values (AGE was missing in 177 records). The ~30 bin is overrepresented. This would definitely introduce bias in any statistical testing."
   ]
  },
  {
   "cell_type": "code",
   "execution_count": 40,
   "metadata": {
    "colab": {
     "base_uri": "https://localhost:8080/"
    },
    "executionInfo": {
     "elapsed": 8067,
     "status": "ok",
     "timestamp": 1609192078794,
     "user": {
      "displayName": "Kamil Ważny",
      "photoUrl": "",
      "userId": "08396634043841645674"
     },
     "user_tz": -60
    },
    "id": "Q89MGd-MOxbf",
    "outputId": "935d5e93-a942-47f1-9a2c-f91baf118cf6"
   },
   "outputs": [
    {
     "data": {
      "text/plain": [
       "count    342.000000\n",
       "mean      28.549778\n",
       "std       13.772498\n",
       "min        0.420000\n",
       "25%       21.000000\n",
       "50%       29.699118\n",
       "75%       35.000000\n",
       "max       80.000000\n",
       "Name: AGE, dtype: float64"
      ]
     },
     "execution_count": 40,
     "metadata": {},
     "output_type": "execute_result"
    }
   ],
   "source": [
    "#histogram of age of survivors\n",
    "survivors_ages = titanic_df.groupby('SURVIVED').get_group(True)['AGE']\n",
    "survivors_ages.index = list(range(len(survivors_ages)))\n",
    "survivors_ages.describe()"
   ]
  },
  {
   "cell_type": "code",
   "execution_count": 41,
   "metadata": {
    "colab": {
     "base_uri": "https://localhost:8080/",
     "height": 295
    },
    "executionInfo": {
     "elapsed": 8064,
     "status": "ok",
     "timestamp": 1609192078794,
     "user": {
      "displayName": "Kamil Ważny",
      "photoUrl": "",
      "userId": "08396634043841645674"
     },
     "user_tz": -60
    },
    "id": "iGQahr9ROxbg",
    "outputId": "bdbbb4c9-8875-46cf-b9f8-75efa059b40a"
   },
   "outputs": [
    {
     "data": {
      "image/png": "[encoded data removed]",
      "text/plain": [
       "<Figure size 432x288 with 1 Axes>"
      ]
     },
     "metadata": {
      "needs_background": "light"
     },
     "output_type": "display_data"
    }
   ],
   "source": [
    "plt.hist(survivors_ages, bins=18, histtype='bar', label='Ages')\n",
    "plt.title('Histogram of ages among survivors')\n",
    "plt.xlabel('Age')\n",
    "plt.ylabel('Count of passengers');"
   ]
  },
  {
   "cell_type": "code",
   "execution_count": 42,
   "metadata": {
    "colab": {
     "base_uri": "https://localhost:8080/"
    },
    "executionInfo": {
     "elapsed": 8060,
     "status": "ok",
     "timestamp": 1609192078794,
     "user": {
      "displayName": "Kamil Ważny",
      "photoUrl": "",
      "userId": "08396634043841645674"
     },
     "user_tz": -60
    },
    "id": "JRfP3YSKOxbi",
    "outputId": "19e363ec-0fea-4d9d-f7a4-0776a2dc7365"
   },
   "outputs": [
    {
     "data": {
      "text/plain": [
       "count    549.000000\n",
       "mean      30.415100\n",
       "std       12.457370\n",
       "min        1.000000\n",
       "25%       23.000000\n",
       "50%       29.699118\n",
       "75%       35.000000\n",
       "max       74.000000\n",
       "Name: AGE, dtype: float64"
      ]
     },
     "execution_count": 42,
     "metadata": {},
     "output_type": "execute_result"
    }
   ],
   "source": [
    "#histogram of age of ones who died\n",
    "dead_ages = titanic_df.groupby('SURVIVED').get_group(False)['AGE']\n",
    "dead_ages.index = list(range(len(dead_ages)))\n",
    "dead_ages.describe()"
   ]
  },
  {
   "cell_type": "code",
   "execution_count": 43,
   "metadata": {
    "colab": {
     "base_uri": "https://localhost:8080/",
     "height": 295
    },
    "executionInfo": {
     "elapsed": 8058,
     "status": "ok",
     "timestamp": 1609192078795,
     "user": {
      "displayName": "Kamil Ważny",
      "photoUrl": "",
      "userId": "08396634043841645674"
     },
     "user_tz": -60
    },
    "id": "klwcDXiHOxbk",
    "outputId": "26cf27c6-9988-459d-a8cd-ba1ef900f8ae"
   },
   "outputs": [
    {
     "data": {
      "image/png": "[encoded data removed]",
      "text/plain": [
       "<Figure size 432x288 with 1 Axes>"
      ]
     },
     "metadata": {
      "needs_background": "light"
     },
     "output_type": "display_data"
    }
   ],
   "source": [
    "plt.hist(dead_ages, bins=18, histtype='bar')\n",
    "plt.title('Histogram of ages among deceased')\n",
    "plt.xlabel('Age')\n",
    "plt.ylabel('Count of passengers');"
   ]
  },
  {
   "cell_type": "markdown",
   "metadata": {
    "id": "hGtoujl-Oxbm"
   },
   "source": [
    "Above plots show, that the age distribution is not normal. That's why T-test could not be used. That's why, 3 first null hypothesis will remain without any statisitcal proof. "
   ]
  },
  {
   "cell_type": "markdown",
   "metadata": {
    "id": "8dZgiA4TOxbm"
   },
   "source": [
    "### Statistical tests"
   ]
  },
  {
   "cell_type": "markdown",
   "metadata": {
    "id": "n0_kS1W0Oxbn"
   },
   "source": [
    "Nevertheless, the last null hypothesis, which is:\n",
    "    \n",
    "*\"Average chance of surviving does not depend on whether passenger was a man or woman in different class.\"*\n",
    "\n",
    "still could be tested.\n",
    "We have 6 *conditions*:\n",
    " - female, 1st class;\n",
    " - female, 2st class;\n",
    " - female, 3st class;\n",
    " - male, 1st class;\n",
    " - male, 2st class;\n",
    " - male, 3st class;\n",
    " \n",
    "and our dependent sample is *survivality (number of survivors)*.\n",
    "\n",
    "We can create a contingency table of the frequencies and apply a Chi-Squared Test. A Chi-Squared test compares the observed values for each cell of a contingency table to the expected values for each cell and returns a test result from which a p-value of significance can be derived. \n",
    "\n",
    "Such procedure was conducted for testing stated null hypothesis. Assumed alfa level is 5%. \n"
   ]
  },
  {
   "cell_type": "code",
   "execution_count": 44,
   "metadata": {
    "executionInfo": {
     "elapsed": 8056,
     "status": "ok",
     "timestamp": 1609192078795,
     "user": {
      "displayName": "Kamil Ważny",
      "photoUrl": "",
      "userId": "08396634043841645674"
     },
     "user_tz": -60
    },
    "id": "2Q0BdbBcOxbn"
   },
   "outputs": [],
   "source": [
    "titanic_classes_sex_groupby = titanic_df.groupby(['SEX','PCLASS'], as_index=False)\n",
    "\n",
    "titanic_count = titanic_classes_sex_groupby.count()[['SURVIVED']]\n",
    "titanic_survived_count = titanic_classes_sex_groupby.sum()[['SURVIVED']]\n",
    "titanic_died_count = titanic_classes_sex_groupby.count()[['SURVIVED']] - titanic_classes_sex_groupby.sum()[['SURVIVED']]\n",
    "titanic_survived_count = titanic_survived_count.merge(titanic_count, on=None, left_index=True, right_index=True)\n",
    "contingency_df = titanic_died_count.merge(titanic_survived_count, on=None, left_index=True, right_index=True)\n",
    "contingency_df.index = ['female 1st class','female 2st class','female 3st class', 'male 1st class','male 2st class','male 3st class']\n",
    "contingency_df.columns = ['DIED', 'SURVIVED', 'column total']\n",
    "contingency_df = contingency_df.transpose()\n",
    "contingency_df['row total'] = contingency_df.sum(axis=1)"
   ]
  },
  {
   "cell_type": "code",
   "execution_count": 45,
   "metadata": {
    "colab": {
     "base_uri": "https://localhost:8080/",
     "height": 142
    },
    "executionInfo": {
     "elapsed": 8052,
     "status": "ok",
     "timestamp": 1609192078795,
     "user": {
      "displayName": "Kamil Ważny",
      "photoUrl": "",
      "userId": "08396634043841645674"
     },
     "user_tz": -60
    },
    "id": "GBb8wEo0Oxbo",
    "outputId": "5d8e54d0-aff2-4428-fc24-233453828461"
   },
   "outputs": [
    {
     "data": {
      "text/html": [
       "<div>\n",
       "<style scoped>\n",
       "    .dataframe tbody tr th:only-of-type {\n",
       "        vertical-align: middle;\n",
       "    }\n",
       "\n",
       "    .dataframe tbody tr th {\n",
       "        vertical-align: top;\n",
       "    }\n",
       "\n",
       "    .dataframe thead th {\n",
       "        text-align: right;\n",
       "    }\n",
       "</style>\n",
       "<table border=\"1\" class=\"dataframe\">\n",
       "  <thead>\n",
       "    <tr style=\"text-align: right;\">\n",
       "      <th></th>\n",
       "      <th>female 1st class</th>\n",
       "      <th>female 2st class</th>\n",
       "      <th>female 3st class</th>\n",
       "      <th>male 1st class</th>\n",
       "      <th>male 2st class</th>\n",
       "      <th>male 3st class</th>\n",
       "      <th>row total</th>\n",
       "    </tr>\n",
       "  </thead>\n",
       "  <tbody>\n",
       "    <tr>\n",
       "      <th>DIED</th>\n",
       "      <td>3</td>\n",
       "      <td>6</td>\n",
       "      <td>72</td>\n",
       "      <td>77</td>\n",
       "      <td>91</td>\n",
       "      <td>300</td>\n",
       "      <td>549</td>\n",
       "    </tr>\n",
       "    <tr>\n",
       "      <th>SURVIVED</th>\n",
       "      <td>91</td>\n",
       "      <td>70</td>\n",
       "      <td>72</td>\n",
       "      <td>45</td>\n",
       "      <td>17</td>\n",
       "      <td>47</td>\n",
       "      <td>342</td>\n",
       "    </tr>\n",
       "    <tr>\n",
       "      <th>column total</th>\n",
       "      <td>94</td>\n",
       "      <td>76</td>\n",
       "      <td>144</td>\n",
       "      <td>122</td>\n",
       "      <td>108</td>\n",
       "      <td>347</td>\n",
       "      <td>891</td>\n",
       "    </tr>\n",
       "  </tbody>\n",
       "</table>\n",
       "</div>"
      ],
      "text/plain": [
       "              female 1st class  female 2st class  female 3st class  \\\n",
       "DIED                         3                 6                72   \n",
       "SURVIVED                    91                70                72   \n",
       "column total                94                76               144   \n",
       "\n",
       "              male 1st class  male 2st class  male 3st class  row total  \n",
       "DIED                      77              91             300        549  \n",
       "SURVIVED                  45              17              47        342  \n",
       "column total             122             108             347        891  "
      ]
     },
     "execution_count": 45,
     "metadata": {},
     "output_type": "execute_result"
    }
   ],
   "source": [
    "contingency_df"
   ]
  },
  {
   "cell_type": "code",
   "execution_count": 46,
   "metadata": {
    "colab": {
     "base_uri": "https://localhost:8080/"
    },
    "executionInfo": {
     "elapsed": 8049,
     "status": "ok",
     "timestamp": 1609192078796,
     "user": {
      "displayName": "Kamil Ważny",
      "photoUrl": "",
      "userId": "08396634043841645674"
     },
     "user_tz": -60
    },
    "id": "yPPmaI9LOxbq",
    "outputId": "8846e52a-ac0a-43b1-d8f1-bf193c8ae31c"
   },
   "outputs": [
    {
     "name": "stdout",
     "output_type": "stream",
     "text": [
      "Test Statistic: 350.67530839575556\n",
      "p-value: 1.2523073473573166e-73\n",
      "Degrees of Freedom: 5\n",
      "\n",
      "[[ 57.91919192  46.82828283  88.72727273  75.17171717  66.54545455\n",
      "  213.80808081]\n",
      " [ 36.08080808  29.17171717  55.27272727  46.82828283  41.45454545\n",
      "  133.19191919]]\n"
     ]
    }
   ],
   "source": [
    "counts = [ contingency_df.loc['DIED'][:-1], contingency_df.loc['SURVIVED'][:-1] ]\n",
    "chi2, p, ddof, expected = chi2_contingency( counts )\n",
    "msg = \"Test Statistic: {}\\np-value: {}\\nDegrees of Freedom: {}\\n\"\n",
    "print( msg.format( chi2, p, ddof ) )\n",
    "print( expected )"
   ]
  },
  {
   "cell_type": "markdown",
   "metadata": {
    "id": "ZLnklGNPOxbs"
   },
   "source": [
    "Looking at the result, we can see that *p-value* is few magnitudes smaller than our alfa level. Therefore, the null hypothesis is rejected. This allows us to conclude, that **survivability was not independent from passenger sex and class**. "
   ]
  },
  {
   "cell_type": "markdown",
   "metadata": {
    "id": "6ArJ0S2GOxbs"
   },
   "source": [
    "### Limitations of the analysis\n",
    "\n",
    "Although above insigths and conclusions which were drawn from the analysis are true, the analysis itself has always some limitations.\n",
    "\n",
    "In this case the essential factors, which constitute the limitations are:\n",
    "- in the analysis the limited dataset was used. Dataset contains data for 891 of the total number of 2224 passengers. Additionally the dataset contains the NaN values. No matter what way was chosen to handle this (imputing, ommiting etc.) it always introduce some bias in the result of such analysis;\n",
    "- data exploration relies on the statistical calculations, without (one exception) statistical tests. Such conclusions give the insight into data, but are only a glimpse. What one can learn looking only on statistical values like means, medians, deviations et.c (calculated for sample of full data) without testing it, are only intuitions, which might not be necessarily true for the full dataset (general population);\n",
    "- it is always possible, that some other variables or conditions were important for survivability of the passengers. For example, the location of the cabin (distance to the nearest lifeboat) might play crucial role in surviving."
   ]
  },
  {
   "cell_type": "markdown",
   "metadata": {
    "id": "UWWCuWeQOxbt"
   },
   "source": [
    "# 5. Conclusion of EDA\n",
    "\n",
    "Looking on the given dataset, which is part of information about all passengers of Titanic, we can learn and gain some intuition about passengers, about their chances to survive. Using statistical tools, one can also infer knowledge about general population what was done in chapter 4 of this report.\n",
    "\n",
    "For further investigation, it would be good to anwser questions like:\n",
    "- *If passenger had relatives on board, was he/she more likely to survive?*\n",
    "- *Were passengers who traveled with the same ticket number more/less likely to survive?*\n",
    "- *Did the cabin position play any role regarding survivability?*\n",
    "\n",
    "In this report, the basic exploration of dataset was conducted and I looked deeper into the variables which were highly corelated with survival rate.\n",
    "\n",
    "Summarizing, the passenger class and sex played role. Higher class passngers and females, had better chance to survive this tragic event. Additionally, it looks like younger peopled were prefered on lifeboats. \n",
    "\n",
    "So, indeed, it was *“ladies and children first”* rule.\n",
    "\n"
   ]
  },
  {
   "cell_type": "markdown",
   "metadata": {
    "id": "wsHB1bB1QIZ3"
   },
   "source": [
    "# 6. Creating predicting model\n",
    "## Decision Trees\n",
    "\n"
   ]
  },
  {
   "cell_type": "code",
   "execution_count": 47,
   "metadata": {
    "colab": {
     "base_uri": "https://localhost:8080/"
    },
    "executionInfo": {
     "elapsed": 8435,
     "status": "ok",
     "timestamp": 1609192079186,
     "user": {
      "displayName": "Kamil Ważny",
      "photoUrl": "",
      "userId": "08396634043841645674"
     },
     "user_tz": -60
    },
    "id": "YC2O3SnTQEuJ",
    "outputId": "d629e5fb-7775-43aa-c0f8-b9fcb490a2f3"
   },
   "outputs": [
    {
     "data": {
      "text/plain": [
       "DecisionTreeClassifier(max_depth=3)"
      ]
     },
     "execution_count": 47,
     "metadata": {},
     "output_type": "execute_result"
    }
   ],
   "source": [
    "import pandas as pd\n",
    "import seaborn as sns\n",
    "import matplotlib.pyplot as plt\n",
    "\n",
    "from sklearn.tree import DecisionTreeClassifier\n",
    "from sklearn.model_selection import train_test_split\n",
    "\n",
    "\n",
    "dtree = DecisionTreeClassifier(max_depth=3)\n",
    "\n",
    "\n",
    "X = pd.DataFrame(titanic_df.drop(['SURVIVED', 'PASSENGERID', 'TICKET', 'PCLASS', 'SEX', 'NAME', 'CABIN', 'EMBARKED'], axis=1))\n",
    "y = pd.DataFrame(titanic_df.SURVIVED)\n",
    "\n",
    "dtree.fit(X, y)"
   ]
  },
  {
   "cell_type": "code",
   "execution_count": 48,
   "metadata": {
    "colab": {
     "base_uri": "https://localhost:8080/",
     "height": 204
    },
    "executionInfo": {
     "elapsed": 8429,
     "status": "ok",
     "timestamp": 1609192079187,
     "user": {
      "displayName": "Kamil Ważny",
      "photoUrl": "",
      "userId": "08396634043841645674"
     },
     "user_tz": -60
    },
    "id": "rvowyeEbSSVf",
    "outputId": "3f2e7140-8a33-4c91-be86-1b9f64548c87"
   },
   "outputs": [
    {
     "data": {
      "text/html": [
       "<div>\n",
       "<style scoped>\n",
       "    .dataframe tbody tr th:only-of-type {\n",
       "        vertical-align: middle;\n",
       "    }\n",
       "\n",
       "    .dataframe tbody tr th {\n",
       "        vertical-align: top;\n",
       "    }\n",
       "\n",
       "    .dataframe thead th {\n",
       "        text-align: right;\n",
       "    }\n",
       "</style>\n",
       "<table border=\"1\" class=\"dataframe\">\n",
       "  <thead>\n",
       "    <tr style=\"text-align: right;\">\n",
       "      <th></th>\n",
       "      <th>AGE</th>\n",
       "      <th>SIBSP</th>\n",
       "      <th>PARCH</th>\n",
       "      <th>FARE</th>\n",
       "      <th>IS_SEX_MALE</th>\n",
       "      <th>IS_SEX_FEMALE</th>\n",
       "      <th>IS_PCLASS_3</th>\n",
       "      <th>IS_PCLASS_1</th>\n",
       "      <th>IS_PCLASS_2</th>\n",
       "      <th>IS_EMBARKED_S</th>\n",
       "      <th>IS_EMBARKED_C</th>\n",
       "      <th>IS_EMBARKED_Q</th>\n",
       "      <th>IS_EMBARKED_</th>\n",
       "    </tr>\n",
       "  </thead>\n",
       "  <tbody>\n",
       "    <tr>\n",
       "      <th>0</th>\n",
       "      <td>22.0</td>\n",
       "      <td>1</td>\n",
       "      <td>0</td>\n",
       "      <td>7.2500</td>\n",
       "      <td>True</td>\n",
       "      <td>False</td>\n",
       "      <td>True</td>\n",
       "      <td>False</td>\n",
       "      <td>False</td>\n",
       "      <td>True</td>\n",
       "      <td>False</td>\n",
       "      <td>False</td>\n",
       "      <td>False</td>\n",
       "    </tr>\n",
       "    <tr>\n",
       "      <th>1</th>\n",
       "      <td>38.0</td>\n",
       "      <td>1</td>\n",
       "      <td>0</td>\n",
       "      <td>71.2833</td>\n",
       "      <td>False</td>\n",
       "      <td>True</td>\n",
       "      <td>False</td>\n",
       "      <td>True</td>\n",
       "      <td>False</td>\n",
       "      <td>False</td>\n",
       "      <td>True</td>\n",
       "      <td>False</td>\n",
       "      <td>False</td>\n",
       "    </tr>\n",
       "    <tr>\n",
       "      <th>2</th>\n",
       "      <td>26.0</td>\n",
       "      <td>0</td>\n",
       "      <td>0</td>\n",
       "      <td>7.9250</td>\n",
       "      <td>False</td>\n",
       "      <td>True</td>\n",
       "      <td>True</td>\n",
       "      <td>False</td>\n",
       "      <td>False</td>\n",
       "      <td>True</td>\n",
       "      <td>False</td>\n",
       "      <td>False</td>\n",
       "      <td>False</td>\n",
       "    </tr>\n",
       "    <tr>\n",
       "      <th>3</th>\n",
       "      <td>35.0</td>\n",
       "      <td>1</td>\n",
       "      <td>0</td>\n",
       "      <td>53.1000</td>\n",
       "      <td>False</td>\n",
       "      <td>True</td>\n",
       "      <td>False</td>\n",
       "      <td>True</td>\n",
       "      <td>False</td>\n",
       "      <td>True</td>\n",
       "      <td>False</td>\n",
       "      <td>False</td>\n",
       "      <td>False</td>\n",
       "    </tr>\n",
       "    <tr>\n",
       "      <th>4</th>\n",
       "      <td>35.0</td>\n",
       "      <td>0</td>\n",
       "      <td>0</td>\n",
       "      <td>8.0500</td>\n",
       "      <td>True</td>\n",
       "      <td>False</td>\n",
       "      <td>True</td>\n",
       "      <td>False</td>\n",
       "      <td>False</td>\n",
       "      <td>True</td>\n",
       "      <td>False</td>\n",
       "      <td>False</td>\n",
       "      <td>False</td>\n",
       "    </tr>\n",
       "  </tbody>\n",
       "</table>\n",
       "</div>"
      ],
      "text/plain": [
       "    AGE  SIBSP  PARCH     FARE  IS_SEX_MALE  IS_SEX_FEMALE  IS_PCLASS_3  \\\n",
       "0  22.0      1      0   7.2500         True          False         True   \n",
       "1  38.0      1      0  71.2833        False           True        False   \n",
       "2  26.0      0      0   7.9250        False           True         True   \n",
       "3  35.0      1      0  53.1000        False           True        False   \n",
       "4  35.0      0      0   8.0500         True          False         True   \n",
       "\n",
       "   IS_PCLASS_1  IS_PCLASS_2  IS_EMBARKED_S  IS_EMBARKED_C  IS_EMBARKED_Q  \\\n",
       "0        False        False           True          False          False   \n",
       "1         True        False          False           True          False   \n",
       "2        False        False           True          False          False   \n",
       "3         True        False           True          False          False   \n",
       "4        False        False           True          False          False   \n",
       "\n",
       "   IS_EMBARKED_  \n",
       "0         False  \n",
       "1         False  \n",
       "2         False  \n",
       "3         False  \n",
       "4         False  "
      ]
     },
     "execution_count": 48,
     "metadata": {},
     "output_type": "execute_result"
    }
   ],
   "source": [
    "#df2vis = pd.DataFrame(pd.concat([X, y], axis=1))\n",
    "\n",
    "#sns.pairplot(df2vis, hue='SURVIVED')\n",
    "#plt.show()\n",
    "X.head()"
   ]
  },
  {
   "cell_type": "markdown",
   "metadata": {
    "id": "_UUOtHi4YZ7G"
   },
   "source": [
    "## Visualization of Decision Tree"
   ]
  },
  {
   "cell_type": "code",
   "execution_count": 49,
   "metadata": {
    "colab": {
     "base_uri": "https://localhost:8080/",
     "height": 498
    },
    "executionInfo": {
     "elapsed": 9507,
     "status": "ok",
     "timestamp": 1609192080275,
     "user": {
      "displayName": "Kamil Ważny",
      "photoUrl": "",
      "userId": "08396634043841645674"
     },
     "user_tz": -60
    },
    "id": "-Sg3uDfsTCKB",
    "outputId": "3fdba200-56ff-4af7-c1fe-6773539ddb36"
   },
   "outputs": [
    {
     "ename": "ModuleNotFoundError",
     "evalue": "No module named 'sklearn.externals.six'",
     "output_type": "error",
     "traceback": [
      "\u001b[1;31m---------------------------------------------------------------------------\u001b[0m",
      "\u001b[1;31mModuleNotFoundError\u001b[0m                       Traceback (most recent call last)",
      "\u001b[1;32m<ipython-input-49-1ac8e39a54d1>\u001b[0m in \u001b[0;36m<module>\u001b[1;34m\u001b[0m\n\u001b[1;32m----> 1\u001b[1;33m \u001b[1;32mfrom\u001b[0m \u001b[0msklearn\u001b[0m\u001b[1;33m.\u001b[0m\u001b[0mexternals\u001b[0m\u001b[1;33m.\u001b[0m\u001b[0msix\u001b[0m \u001b[1;32mimport\u001b[0m \u001b[0mStringIO\u001b[0m\u001b[1;33m\u001b[0m\u001b[1;33m\u001b[0m\u001b[0m\n\u001b[0m\u001b[0;32m      2\u001b[0m \u001b[1;32mfrom\u001b[0m \u001b[0mIPython\u001b[0m\u001b[1;33m.\u001b[0m\u001b[0mdisplay\u001b[0m \u001b[1;32mimport\u001b[0m \u001b[0mImage\u001b[0m\u001b[1;33m\u001b[0m\u001b[1;33m\u001b[0m\u001b[0m\n\u001b[0;32m      3\u001b[0m \u001b[1;32mfrom\u001b[0m \u001b[0msklearn\u001b[0m\u001b[1;33m.\u001b[0m\u001b[0mtree\u001b[0m \u001b[1;32mimport\u001b[0m \u001b[0mexport_graphviz\u001b[0m\u001b[1;33m\u001b[0m\u001b[1;33m\u001b[0m\u001b[0m\n\u001b[0;32m      4\u001b[0m \u001b[1;32mimport\u001b[0m \u001b[0mpydotplus\u001b[0m\u001b[1;33m\u001b[0m\u001b[1;33m\u001b[0m\u001b[0m\n\u001b[0;32m      5\u001b[0m \u001b[0mdot_data\u001b[0m \u001b[1;33m=\u001b[0m \u001b[0mStringIO\u001b[0m\u001b[1;33m(\u001b[0m\u001b[1;33m)\u001b[0m\u001b[1;33m\u001b[0m\u001b[1;33m\u001b[0m\u001b[0m\n",
      "\u001b[1;31mModuleNotFoundError\u001b[0m: No module named 'sklearn.externals.six'"
     ]
    }
   ],
   "source": [
    "# from sklearn.externals.six import StringIO  #Old ver\n",
    "from IPython.display import Image  \n",
    "from sklearn.tree import export_graphviz\n",
    "from six import StringIO\n",
    "import pydotplus\n",
    "dot_data = StringIO()\n",
    "export_graphviz(dtree, out_file=dot_data,  \n",
    "                filled=True, rounded=True,\n",
    "                special_characters=True)\n",
    "graph = pydotplus.graph_from_dot_data(dot_data.getvalue())  \n",
    "Image(graph.create_png())"
   ]
  },
  {
   "cell_type": "code",
   "execution_count": null,
   "metadata": {
    "colab": {
     "base_uri": "https://localhost:8080/",
     "height": 204
    },
    "executionInfo": {
     "elapsed": 9499,
     "status": "ok",
     "timestamp": 1609192080275,
     "user": {
      "displayName": "Kamil Ważny",
      "photoUrl": "",
      "userId": "08396634043841645674"
     },
     "user_tz": -60
    },
    "id": "fq2aNhZK0i2I",
    "outputId": "455231f2-48e0-415b-85fe-f53556d5d2f7"
   },
   "outputs": [],
   "source": [
    "X.head()"
   ]
  },
  {
   "cell_type": "markdown",
   "metadata": {
    "id": "W0vpf7yTYdgY"
   },
   "source": [
    "## Checking performance of the model"
   ]
  },
  {
   "cell_type": "code",
   "execution_count": null,
   "metadata": {
    "colab": {
     "base_uri": "https://localhost:8080/"
    },
    "executionInfo": {
     "elapsed": 9495,
     "status": "ok",
     "timestamp": 1609192080276,
     "user": {
      "displayName": "Kamil Ważny",
      "photoUrl": "",
      "userId": "08396634043841645674"
     },
     "user_tz": -60
    },
    "id": "VIkaxhgtTrBJ",
    "outputId": "d8d12998-8f21-4340-a0a6-e2c74aca20d6"
   },
   "outputs": [],
   "source": [
    "from sklearn.metrics import classification_report, confusion_matrix\n",
    "\n",
    "\n",
    "y_pred = dtree.predict(X)\n",
    "\n",
    "print(classification_report(y, y_pred))"
   ]
  },
  {
   "cell_type": "code",
   "execution_count": null,
   "metadata": {
    "colab": {
     "base_uri": "https://localhost:8080/",
     "height": 428
    },
    "executionInfo": {
     "elapsed": 9489,
     "status": "ok",
     "timestamp": 1609192080276,
     "user": {
      "displayName": "Kamil Ważny",
      "photoUrl": "",
      "userId": "08396634043841645674"
     },
     "user_tz": -60
    },
    "id": "IcdpMgtKXjqg",
    "outputId": "96bace01-5446-4b42-ada9-1eb5dfa179de"
   },
   "outputs": [],
   "source": [
    "cm = confusion_matrix(y, y_pred)\n",
    "\n",
    "plt.figure(figsize = (10,7))\n",
    "sns.heatmap(cm, annot=True, fmt='g', xticklabels=['Died', 'Survived'], \n",
    "            yticklabels=['Died', 'Survived']);"
   ]
  },
  {
   "cell_type": "markdown",
   "metadata": {
    "id": "t0KuMWAAYiy2"
   },
   "source": [
    "## Logistic Regression model with ROC curve plot"
   ]
  },
  {
   "cell_type": "code",
   "execution_count": null,
   "metadata": {
    "colab": {
     "base_uri": "https://localhost:8080/",
     "height": 428
    },
    "executionInfo": {
     "elapsed": 9955,
     "status": "ok",
     "timestamp": 1609192080746,
     "user": {
      "displayName": "Kamil Ważny",
      "photoUrl": "",
      "userId": "08396634043841645674"
     },
     "user_tz": -60
    },
    "id": "pqWOmlj6XhGZ",
    "outputId": "fbe8f1cc-0d20-4ce2-d81f-66eabbd650a0"
   },
   "outputs": [],
   "source": [
    "from sklearn.metrics import roc_curve, roc_auc_score, auc\n",
    "\n",
    "estimator = LogisticRegression()\n",
    "estimator.fit(X, y)\n",
    "\n",
    "y_scores = estimator.predict_proba(X)[:, 1]\n",
    "\n",
    "fpr, tpr, thresholds = roc_curve(y, y_scores, pos_label=True)\n",
    "\n",
    "#roc_auc = roc_auc_score(y, y_scores)\n",
    "roc_auc = auc(fpr, tpr)\n",
    "\n",
    "plt.figure(figsize=(10,7))\n",
    "plt.plot(fpr, tpr, alpha=1, label='ROC (AUC = %0.2f)' % (roc_auc), \n",
    "         color='black', lw=2)\n",
    "plt.plot([0, 1], [0, 1], linestyle='--', lw=2, color='r',\n",
    "         label='Chance', alpha=.8);\n",
    "\n"
   ]
  },
  {
   "cell_type": "markdown",
   "metadata": {
    "id": "1XHbLUcUYqMV"
   },
   "source": [
    "## ROC plots for CrossValidatation"
   ]
  },
  {
   "cell_type": "code",
   "execution_count": null,
   "metadata": {
    "colab": {
     "base_uri": "https://localhost:8080/",
     "height": 357
    },
    "executionInfo": {
     "elapsed": 9956,
     "status": "error",
     "timestamp": 1609192080749,
     "user": {
      "displayName": "Kamil Ważny",
      "photoUrl": "",
      "userId": "08396634043841645674"
     },
     "user_tz": -60
    },
    "id": "a5FNoXCzd2n2",
    "outputId": "ac019126-c9e3-4484-e6e7-5b34c118faac"
   },
   "outputs": [],
   "source": [
    "# based on:\n",
    "# https://scikit-learn.org/stable/auto_examples/model_selection/plot_roc_crossval.html#sphx-glr-auto-examples-model-selection-plot-roc-crossval-py\n",
    "\n",
    "from sklearn.model_selection import StratifiedKFold\n",
    "from scipy import interp\n",
    "\n",
    "def roc_plots(ClassifierObj, X, y):\n",
    "    cv = StratifiedKFold(n_splits=6)\n",
    "    classifier = ClassifierObj\n",
    "\n",
    "    tprs = []\n",
    "    aucs = []\n",
    "    mean_fpr = np.linspace(0, 1, 100)\n",
    "\n",
    "    plt.figure(figsize=(10,7))\n",
    "\n",
    "    i = 0\n",
    "    for train, test in cv.split(X, y):\n",
    "        probas_ = classifier.fit(X.iloc[train], y.iloc[train]).predict_proba(X.iloc[test])\n",
    "        # Compute ROC curve and area the curve\n",
    "        fpr, tpr, thresholds = roc_curve(y.iloc[test], probas_[:, 1])\n",
    "        tprs.append(interp(mean_fpr, fpr, tpr))\n",
    "        tprs[-1][0] = 0.0\n",
    "        roc_auc = auc(fpr, tpr)\n",
    "        aucs.append(roc_auc)\n",
    "        plt.plot(fpr, tpr, lw=1, alpha=0.3,\n",
    "                 label='ROC fold %d (AUC = %0.2f)' % (i, roc_auc))\n",
    "\n",
    "        i += 1\n",
    "    plt.plot([0, 1], [0, 1], linestyle='--', lw=2, color='r',\n",
    "             label='Chance', alpha=.8)\n",
    "\n",
    "    mean_tpr = np.mean(tprs, axis=0)\n",
    "    mean_tpr[-1] = 1.0\n",
    "    mean_auc = auc(mean_fpr, mean_tpr)\n",
    "    std_auc = np.std(aucs)\n",
    "    plt.plot(mean_fpr, mean_tpr, color='b',\n",
    "             label=r'Mean ROC (AUC = %0.2f $\\pm$ %0.2f)' % (mean_auc, std_auc),\n",
    "             lw=2, alpha=.8)\n",
    "\n",
    "    std_tpr = np.std(tprs, axis=0)\n",
    "    tprs_upper = np.minimum(mean_tpr + std_tpr, 1)\n",
    "    tprs_lower = np.maximum(mean_tpr - std_tpr, 0)\n",
    "    plt.fill_between(mean_fpr, tprs_lower, tprs_upper, color='grey', alpha=.2,\n",
    "                     label=r'$\\pm$ 1 std. dev.')\n",
    "\n",
    "    plt.xlim([-0.05, 1.05])\n",
    "    plt.ylim([-0.05, 1.05])\n",
    "    plt.xlabel('False Positive Rate')\n",
    "    plt.ylabel('True Positive Rate')\n",
    "    plt.title('Receiver operating characteristic')\n",
    "    plt.legend(loc=\"lower right\")\n",
    "    plt.show()\n",
    "    \n",
    "roc_plots(LogisticRegression(penalty = 'l1', C=0.1), X, y.SURVIVED)"
   ]
  },
  {
   "cell_type": "markdown",
   "metadata": {
    "id": "bh2OsEkrYwpa"
   },
   "source": [
    "## Feature Selection - using Chi2 to select k best features"
   ]
  },
  {
   "cell_type": "code",
   "execution_count": null,
   "metadata": {
    "executionInfo": {
     "elapsed": 9951,
     "status": "aborted",
     "timestamp": 1609192080746,
     "user": {
      "displayName": "Kamil Ważny",
      "photoUrl": "",
      "userId": "08396634043841645674"
     },
     "user_tz": -60
    },
    "id": "SEh-ScUXftdI"
   },
   "outputs": [],
   "source": [
    "from sklearn.feature_selection import SelectKBest, chi2\n",
    "\n",
    "X_new = SelectKBest(chi2, k=5).fit_transform(X, y)\n",
    "\n",
    "X.shape, X_new.shape"
   ]
  },
  {
   "cell_type": "code",
   "execution_count": null,
   "metadata": {
    "executionInfo": {
     "elapsed": 9951,
     "status": "aborted",
     "timestamp": 1609192080747,
     "user": {
      "displayName": "Kamil Ważny",
      "photoUrl": "",
      "userId": "08396634043841645674"
     },
     "user_tz": -60
    },
    "id": "kEFpZwiCkrkY"
   },
   "outputs": [],
   "source": [
    "from sklearn.ensemble import RandomForestClassifier\n",
    "from sklearn.linear_model import LogisticRegression\n",
    "\n",
    "\n",
    "roc_plots(LogisticRegression(), pd.DataFrame(X_new), y.SURVIVED)"
   ]
  },
  {
   "cell_type": "markdown",
   "metadata": {
    "id": "zWbWVBsdY2gU"
   },
   "source": [
    "## Feature selection - recursive feature elimination"
   ]
  },
  {
   "cell_type": "code",
   "execution_count": null,
   "metadata": {
    "executionInfo": {
     "elapsed": 9949,
     "status": "aborted",
     "timestamp": 1609192080747,
     "user": {
      "displayName": "Kamil Ważny",
      "photoUrl": "",
      "userId": "08396634043841645674"
     },
     "user_tz": -60
    },
    "id": "NdBvSu2hmkQP"
   },
   "outputs": [],
   "source": [
    "from sklearn.feature_selection import RFE, RFECV\n",
    "\n",
    "selector = RFECV(RandomForestClassifier())\n",
    "\n",
    "selector.fit(X, y.SURVIVED)\n",
    "\n",
    "columns = list(X.columns[selector.support_])\n",
    "print(columns)\n",
    "\n",
    "selector.ranking_"
   ]
  },
  {
   "cell_type": "markdown",
   "metadata": {
    "id": "N18tWgqSY7qW"
   },
   "source": [
    "## Looking for the best hyper-parameters - GridSearchCV"
   ]
  },
  {
   "cell_type": "code",
   "execution_count": null,
   "metadata": {
    "executionInfo": {
     "elapsed": 9947,
     "status": "aborted",
     "timestamp": 1609192080747,
     "user": {
      "displayName": "Kamil Ważny",
      "photoUrl": "",
      "userId": "08396634043841645674"
     },
     "user_tz": -60
    },
    "id": "y0VIU1TVojaw"
   },
   "outputs": [],
   "source": [
    "from sklearn.model_selection import GridSearchCV\n",
    "from sklearn.linear_model import LogisticRegression\n",
    "\n",
    "classifier = LogisticRegression()\n",
    "\n",
    "params = {'C': [0.1,0.4,1], 'penalty': ['l1', 'l2']}\n",
    "\n",
    "clf = GridSearchCV(classifier, params)\n",
    "clf.fit(X, y.SURVIVED)\n",
    "\n",
    "\n",
    "clf.best_params_"
   ]
  },
  {
   "cell_type": "markdown",
   "metadata": {
    "id": "uCnzth1SZBuP"
   },
   "source": [
    "## Creating pipeline for all steps of the processing and modelling"
   ]
  },
  {
   "cell_type": "code",
   "execution_count": null,
   "metadata": {
    "executionInfo": {
     "elapsed": 9947,
     "status": "aborted",
     "timestamp": 1609192080748,
     "user": {
      "displayName": "Kamil Ważny",
      "photoUrl": "",
      "userId": "08396634043841645674"
     },
     "user_tz": -60
    },
    "id": "fo_o6sLEwWRe"
   },
   "outputs": [],
   "source": [
    "#pipeline\n",
    "from sklearn.pipeline import Pipeline\n",
    "\n",
    "pipe = Pipeline([\n",
    "    ('reduce_dim', SelectKBest(chi2, k=10)),\n",
    "    ('classify', LogisticRegression(C=0.1))\n",
    "])\n",
    "\n",
    "pipe.fit(X, y.SURVIVED)\n",
    "\n",
    "X_new = pipe.named_steps['reduce_dim'].transform(X)\n",
    "\n",
    "pipe.named_steps['classify'].score(X_new, y)"
   ]
  },
  {
   "cell_type": "code",
   "execution_count": null,
   "metadata": {
    "executionInfo": {
     "elapsed": 9945,
     "status": "aborted",
     "timestamp": 1609192080748,
     "user": {
      "displayName": "Kamil Ważny",
      "photoUrl": "",
      "userId": "08396634043841645674"
     },
     "user_tz": -60
    },
    "id": "2B7xC29RK7XD"
   },
   "outputs": [],
   "source": [
    "LogisticRegression(C=0.1).fit(X_new, y.SURVIVED).score(X_new, y.SURVIVED)"
   ]
  },
  {
   "cell_type": "markdown",
   "metadata": {
    "id": "-AqippgGZH-a"
   },
   "source": [
    "## Using GridSearchCV in pipelines"
   ]
  },
  {
   "cell_type": "code",
   "execution_count": null,
   "metadata": {
    "executionInfo": {
     "elapsed": 9944,
     "status": "aborted",
     "timestamp": 1609192080748,
     "user": {
      "displayName": "Kamil Ważny",
      "photoUrl": "",
      "userId": "08396634043841645674"
     },
     "user_tz": -60
    },
    "id": "y1ubDSV_LAeo"
   },
   "outputs": [],
   "source": [
    "from sklearn.pipeline import Pipeline\n",
    "from sklearn.model_selection import GridSearchCV\n",
    "from sklearn.preprocessing import MinMaxScaler\n",
    "\n",
    "import numpy as np\n",
    "\n",
    "pipe = Pipeline([\n",
    "    ('preprocessing', MinMaxScaler()),\n",
    "    ('reduce_dim', SelectKBest(chi2)),\n",
    "    ('classify', LogisticRegression(C=0.1))\n",
    "])\n",
    "\n",
    "params = {\n",
    "        'reduce_dim__k': np.arange(1,10,1),\n",
    "        'classify__C': [0.05, 0.1, 0.2, 0.5, 1, 2],\n",
    "        'classify__penalty': ['l1', 'l2']\n",
    "}\n",
    "\n",
    "grid = GridSearchCV(pipe, cv=3, n_jobs=1, param_grid=params)\n",
    "grid.fit(X, y.SURVIVED)\n",
    "\n",
    "grid.best_estimator_"
   ]
  },
  {
   "cell_type": "markdown",
   "metadata": {
    "id": "E4jgF8XDZSnk"
   },
   "source": [
    "## Score metric for the best found parameters"
   ]
  },
  {
   "cell_type": "code",
   "execution_count": null,
   "metadata": {
    "executionInfo": {
     "elapsed": 9943,
     "status": "aborted",
     "timestamp": 1609192080749,
     "user": {
      "displayName": "Kamil Ważny",
      "photoUrl": "",
      "userId": "08396634043841645674"
     },
     "user_tz": -60
    },
    "id": "El4h6KNCQChT"
   },
   "outputs": [],
   "source": [
    "grid.score(X, y.SURVIVED)"
   ]
  },
  {
   "cell_type": "markdown",
   "metadata": {
    "id": "jM9Gp0YzZZD9"
   },
   "source": [
    "## GridSearchCV with pipeline and different dimensionality reduction functions"
   ]
  },
  {
   "cell_type": "code",
   "execution_count": null,
   "metadata": {
    "executionInfo": {
     "elapsed": 9942,
     "status": "aborted",
     "timestamp": 1609192080749,
     "user": {
      "displayName": "Kamil Ważny",
      "photoUrl": "",
      "userId": "08396634043841645674"
     },
     "user_tz": -60
    },
    "id": "Uw6ySqyyMygF"
   },
   "outputs": [],
   "source": [
    "from sklearn.pipeline import Pipeline\n",
    "from sklearn.model_selection import GridSearchCV\n",
    "from sklearn.decomposition import PCA, NMF\n",
    "\n",
    "\n",
    "pipe = Pipeline([\n",
    "    ('reduce_dim', None),\n",
    "    ('classify', LogisticRegression(C=0.1))\n",
    "])\n",
    "\n",
    "params = [{\n",
    "        'reduce_dim': [SelectKBest(chi2)],\n",
    "        'reduce_dim__k': np.arange(1,10,1),\n",
    "        'classify__C': [0.05, 0.1, 0.2, 0.5, 1, 2],\n",
    "        'classify__penalty': ['l1', 'l2']\n",
    "    },\n",
    "    {\n",
    "        'reduce_dim': [PCA(), NMF()],\n",
    "        'reduce_dim__n_components': [2,4,8,9],\n",
    "        'classify__C': [0.05, 0.1, 0.2, 0.5, 1, 2],\n",
    "        'classify__penalty': ['l1', 'l2']\n",
    "    }\n",
    "]\n",
    "\n",
    "grid = GridSearchCV(pipe, cv=3, n_jobs=1, param_grid=params)\n",
    "grid.fit(X, y.SURVIVED)\n",
    "\n",
    "grid.best_estimator_"
   ]
  },
  {
   "cell_type": "markdown",
   "metadata": {
    "id": "9LsZzv5lOxbt"
   },
   "source": [
    "### Links:\n",
    "\n",
    "1. http://www.anesi.com/titanic.htm - “The Titanic Casualty Figures (and what they mean)”\n",
    "2. https://www.bsfrey.ch/articles/C_524_Who_Perished_on_the_Titanic_Rationality_and_Society.pdf - “Who perished on the Titanic? The importance of social norms” by B.S. Frey, D. A. Savage, B. Torgler - Rationality and Society, February 2011 vol. 23 no. 1 pp. 35-49\n",
    "3. http://cs229.stanford.edu/proj2012/LamTang-TitanicMachineLearningFromDisaster.pdf - “CS229 Titanic - Machine Learning From Disaster” by E. Lam, C. Tang, 2012\n",
    "\n",
    "\n"
   ]
  }
 ],
 "metadata": {
  "colab": {
   "collapsed_sections": [
    "7VYTCpNoOxaW",
    "gk_QJoruOxap",
    "E9rKw0AJOxau",
    "qsQgKTTHOxbE",
    "ZJidOiFcOxbJ",
    "zVUctkPMOxbN",
    "rwgVAMZLOxbS",
    "FI2ibu_nOxbY",
    "f-IIjsfzOxbe",
    "8dZgiA4TOxbm",
    "6ArJ0S2GOxbs",
    "9LsZzv5lOxbt"
   ],
   "name": "Kopia notatnika TitanicDataAnalysis-isaWORKSHOP-07.05.2019.ipynb",
   "provenance": [
    {
     "file_id": "1sbKjDSiBHRPojG4XCdFLMCM1HyA1nXjj",
     "timestamp": 1609170527405
    }
   ]
  },
  "kernelspec": {
   "display_name": "Python 3",
   "language": "python",
   "name": "python3"
  },
  "language_info": {
   "codemirror_mode": {
    "name": "ipython",
    "version": 3
   },
   "file_extension": ".py",
   "mimetype": "text/x-python",
   "name": "python",
   "nbconvert_exporter": "python",
   "pygments_lexer": "ipython3",
   "version": "3.8.5"
  }
 },
 "nbformat": 4,
 "nbformat_minor": 1
}
